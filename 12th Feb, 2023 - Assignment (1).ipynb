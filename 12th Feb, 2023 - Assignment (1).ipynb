{
 "cells": [
  {
   "cell_type": "markdown",
   "id": "51a0e2f8-dc55-4181-8188-0418e2273ccb",
   "metadata": {},
   "source": [
    "Q1 Ans) An exception is an event, which occurs during the execution of a program that disrupts the normal flow of the program logic. \n",
    "\n",
    "Difference between Exception and Syntax error is that A syntax error occurs when the structure of a program does not conform to the rules of the programming language. · An exception is an abnormal event that occurs on the run time."
   ]
  },
  {
   "cell_type": "markdown",
   "id": "b6140d75-f0e4-42ba-9072-4ebf98696df9",
   "metadata": {},
   "source": [
    "Q2 Ans) If an exception is not handled it will crash the program."
   ]
  },
  {
   "cell_type": "markdown",
   "id": "3e537b80-b3c1-45fe-a23f-a23d532c5b04",
   "metadata": {},
   "source": [
    "Q3 Ans) Try and Except statements are used to handle exceptions.\n",
    "eg: "
   ]
  },
  {
   "cell_type": "code",
   "execution_count": 3,
   "id": "2125757e-c44b-4d36-a880-3a6363ea73e3",
   "metadata": {},
   "outputs": [
    {
     "name": "stdout",
     "output_type": "stream",
     "text": [
      "Error:  division by zero\n"
     ]
    }
   ],
   "source": [
    "num1 = 1\n",
    "num2 = 0\n",
    "try:\n",
    "    num3 = num1 / num2\n",
    "except Exception as ex:\n",
    "    print(\"Error: \", ex)"
   ]
  },
  {
   "cell_type": "markdown",
   "id": "684e1bac-3840-4ca4-8988-a2bb95da4dcf",
   "metadata": {},
   "source": [
    "Q4 Ans) Example of try, else, finally, raise are as follows"
   ]
  },
  {
   "cell_type": "code",
   "execution_count": 11,
   "id": "f98e8b8b-e06c-409f-b4d8-c97996cdec0d",
   "metadata": {},
   "outputs": [
    {
     "name": "stdout",
     "output_type": "stream",
     "text": [
      "num3 =  2.0\n",
      "Execution complete\n"
     ]
    }
   ],
   "source": [
    "num1 = 4\n",
    "num2 = 2\n",
    "try:\n",
    "    num3 = num1 / num2 #The piece of code where an exception might occur is kep in the try block\n",
    "except Exception as ex:\n",
    "    raise(ex) # If an excetion occurs we have to raise it\n",
    "else:\n",
    "    print(\"num3 = \", num3) # Else block executes if only try blocks execute successfully without any exception\n",
    "finally:\n",
    "    print(\"Execution complete\") #Finally block is executed always whether an exception is raised or not"
   ]
  },
  {
   "cell_type": "markdown",
   "id": "c4c3a237-f803-44dc-a5e4-3129d5c5c028",
   "metadata": {},
   "source": [
    "Q5 Ans) Custom exceptions are exceptions raised by developers itself for handling certain use cases. eg."
   ]
  },
  {
   "cell_type": "code",
   "execution_count": 13,
   "id": "ed545e6f-697e-415b-9b65-892c3ebdeb99",
   "metadata": {},
   "outputs": [],
   "source": [
    "class PassingCriteriaException(Exception):\n",
    "    def __init__(self, msg):\n",
    "        self.msg = msg"
   ]
  },
  {
   "cell_type": "code",
   "execution_count": 14,
   "id": "a55192ca-63fb-424d-b33b-23e4d5298add",
   "metadata": {},
   "outputs": [],
   "source": [
    "def student_marks(mark):\n",
    "    if mark < 75:\n",
    "        raise PassingCriteriaException(\"Ineligible\")\n",
    "    else:\n",
    "        print(\"Eligible\")"
   ]
  },
  {
   "cell_type": "code",
   "execution_count": 17,
   "id": "49e6db37-b34b-499b-93e6-5ec07354ef7e",
   "metadata": {},
   "outputs": [
    {
     "name": "stdout",
     "output_type": "stream",
     "text": [
      "Ineligible\n"
     ]
    }
   ],
   "source": [
    "try:\n",
    "    student_marks(60)\n",
    "except PassingCriteriaException as e:\n",
    "    print(e)"
   ]
  },
  {
   "cell_type": "code",
   "execution_count": 18,
   "id": "90aead5c-2103-43cf-82c5-1e70641cd18e",
   "metadata": {},
   "outputs": [
    {
     "name": "stdout",
     "output_type": "stream",
     "text": [
      "Eligible\n"
     ]
    }
   ],
   "source": [
    "try:\n",
    "    student_marks(90)\n",
    "except PassingCriteriaException as e:\n",
    "    print(e)"
   ]
  },
  {
   "cell_type": "markdown",
   "id": "9ccfc470-241a-43de-bf44-d6d77df21774",
   "metadata": {},
   "source": [
    "Q6 Ans) The above PassingCriteriaException is a custom Exception class created for validating eligibility criteria use case"
   ]
  },
  {
   "cell_type": "code",
   "execution_count": null,
   "id": "df9f3eae-8d63-4db5-ab76-1052c68c98b8",
   "metadata": {},
   "outputs": [],
   "source": []
  },
  {
   "cell_type": "code",
   "execution_count": null,
   "id": "1cd36628-971c-4e40-a908-29d36b1a6bb0",
   "metadata": {},
   "outputs": [],
   "source": []
  }
 ],
 "metadata": {
  "kernelspec": {
   "display_name": "Python 3 (ipykernel)",
   "language": "python",
   "name": "python3"
  },
  "language_info": {
   "codemirror_mode": {
    "name": "ipython",
    "version": 3
   },
   "file_extension": ".py",
   "mimetype": "text/x-python",
   "name": "python",
   "nbconvert_exporter": "python",
   "pygments_lexer": "ipython3",
   "version": "3.10.8"
  }
 },
 "nbformat": 4,
 "nbformat_minor": 5
}
