{
 "cells": [
  {
   "cell_type": "markdown",
   "id": "25dd3e73-8f7b-411b-933a-2ca2d33b7a5f",
   "metadata": {},
   "source": [
    "Q1. Which function is used to open a file? What are the different modes of opening a file? Explain each mode\n",
    "of file opening."
   ]
  },
  {
   "cell_type": "markdown",
   "id": "90e8b4eb-0d6a-4891-9cab-a64f89f6e91d",
   "metadata": {},
   "source": [
    "Ans: \n",
    "open is the function used for opening a file. \n",
    "Different Modes of opening a file are read, write, append, read and write etc\n",
    "\n",
    "read only/\"r\": Used when we just have to read the contents from a file\n",
    "\n",
    "write only/\"w\": Used to write to a file but each time existing content will be replaced.\n",
    "\n",
    "append/\"a\": Used to append contents to a file similar to write but instead of replacing existing contents it will append new content."
   ]
  },
  {
   "cell_type": "code",
   "execution_count": null,
   "id": "90f0e8e3-87a8-45ac-bac1-5518deec00a2",
   "metadata": {},
   "outputs": [],
   "source": []
  },
  {
   "cell_type": "markdown",
   "id": "1de5f1c8-51d5-4232-9e15-641dd5f016fe",
   "metadata": {},
   "source": [
    "Q2. Why close() function is used? Why is it important to close a file?"
   ]
  },
  {
   "cell_type": "markdown",
   "id": "60a03165-263b-4780-83b2-1fe16e718746",
   "metadata": {},
   "source": [
    "Ans: close() is used to closes open file. It is important to close a file because otherwise changes made to file won't be displayed."
   ]
  },
  {
   "cell_type": "code",
   "execution_count": null,
   "id": "1a7664de-afa6-4e55-9684-fd9c8b3d6788",
   "metadata": {},
   "outputs": [],
   "source": []
  },
  {
   "cell_type": "markdown",
   "id": "da00efdd-4733-414f-9fbd-874bad2d2e59",
   "metadata": {},
   "source": [
    "Q3. Write a python program to create a text file. Write ‘I want to become a Data Scientist’ in that file. Then\n",
    "close the file. Open this file and read the content of the file."
   ]
  },
  {
   "cell_type": "code",
   "execution_count": 5,
   "id": "7a5cc288-84ec-4d35-a1f7-8ca42c93f1b1",
   "metadata": {},
   "outputs": [
    {
     "name": "stdout",
     "output_type": "stream",
     "text": [
      "I want to become a Data Scientist\n"
     ]
    }
   ],
   "source": [
    "# Writing to file\n",
    "f = open(\"demo.txt\", \"w\")\n",
    "f.write('I want to become a Data Scientist')\n",
    "f.close()\n",
    "\n",
    "#Reading from file\n",
    "f = open(\"demo.txt\", \"r\")\n",
    "print(f.read())\n",
    "f.close()"
   ]
  },
  {
   "cell_type": "code",
   "execution_count": null,
   "id": "eb14d268-b9e0-4da2-af31-c6a2a2856393",
   "metadata": {},
   "outputs": [],
   "source": []
  },
  {
   "cell_type": "markdown",
   "id": "c7bd5277-ac0a-47ae-919b-53141ae10c8f",
   "metadata": {},
   "source": [
    "Q4. Explain the following with python code: read(), readline() and readlines()."
   ]
  },
  {
   "cell_type": "markdown",
   "id": "94cb448a-e24f-45b5-a724-939611e7acb9",
   "metadata": {},
   "source": [
    "Ans: For example demo2.txt contains the following \n",
    "\n",
    "Testing - FirstLine\n",
    "Testing - SecondLine\n",
    "Testing - Third Line\n",
    "Testing - Fourth Line\n",
    "Testing - Fifth Line\n"
   ]
  },
  {
   "cell_type": "code",
   "execution_count": 14,
   "id": "f638abf7-3450-427c-9f21-4b9084a17474",
   "metadata": {},
   "outputs": [
    {
     "name": "stdout",
     "output_type": "stream",
     "text": [
      "Testing - FirstLine\n",
      "Testing - SecondLine\n",
      "Testing - Third Line\n",
      "Testing - Fourth Line\n",
      "Testing - Fifth Line\n"
     ]
    }
   ],
   "source": [
    "f = open(\"demo2.txt\", \"r\")\n",
    "print(f.read())\n",
    "f.close()\n",
    "\n",
    "#read() will read the whole contents of the file"
   ]
  },
  {
   "cell_type": "code",
   "execution_count": 16,
   "id": "73d9d35f-0db5-4187-b745-e6ead57b3e6e",
   "metadata": {},
   "outputs": [
    {
     "name": "stdout",
     "output_type": "stream",
     "text": [
      "Testing - FirstLine\n",
      "\n"
     ]
    }
   ],
   "source": [
    "f = open(\"demo2.txt\", \"r\")\n",
    "print(f.readline())\n",
    "f.close()\n",
    "\n",
    "#readline() reads in a line by line manner\n"
   ]
  },
  {
   "cell_type": "code",
   "execution_count": 18,
   "id": "c53090e9-bf5e-4b3c-943a-af229e6df903",
   "metadata": {},
   "outputs": [
    {
     "name": "stdout",
     "output_type": "stream",
     "text": [
      "['Testing - FirstLine\\n', 'Testing - SecondLine\\n', 'Testing - Third Line\\n', 'Testing - Fourth Line\\n', 'Testing - Fifth Line']\n"
     ]
    }
   ],
   "source": [
    "f = open(\"demo2.txt\", \"r\")\n",
    "print(f.readlines())\n",
    "f.close()\n",
    "\n",
    "#readlines() method returns a list containing each line in the file as a list item"
   ]
  },
  {
   "cell_type": "code",
   "execution_count": null,
   "id": "803165f9-6c69-4d56-b477-f5ded6d3ecfe",
   "metadata": {},
   "outputs": [],
   "source": []
  },
  {
   "cell_type": "markdown",
   "id": "07c0411b-261b-406a-80f4-95e29f3d4f08",
   "metadata": {},
   "source": [
    "Q5. Explain why with statement is used with open(). What is the advantage of using with statement and\n",
    "open() together?"
   ]
  },
  {
   "cell_type": "code",
   "execution_count": 19,
   "id": "d5795e1e-5bae-46d9-9478-823aca35f150",
   "metadata": {},
   "outputs": [
    {
     "name": "stdout",
     "output_type": "stream",
     "text": [
      "I want to become a Data Scientist\n"
     ]
    }
   ],
   "source": [
    "with open(\"demo.txt\", \"r\") as file1:\n",
    "    read_content = file1.read()\n",
    "    print(read_content)"
   ]
  },
  {
   "cell_type": "markdown",
   "id": "fd17d647-6408-4b0d-8b82-64d370401544",
   "metadata": {},
   "source": [
    "Advantage of using with statement for openng files is that it will automatically close the file. "
   ]
  },
  {
   "cell_type": "code",
   "execution_count": null,
   "id": "8a427f2e-f1d5-490b-8139-33950ac7dbe3",
   "metadata": {},
   "outputs": [],
   "source": []
  },
  {
   "cell_type": "markdown",
   "id": "4def8010-c3ee-4b7d-a07b-f0f48d99c8ed",
   "metadata": {},
   "source": [
    "Q6. Explain the write() and writelines() functions. Give a suitable example."
   ]
  },
  {
   "cell_type": "code",
   "execution_count": 22,
   "id": "48dd89bf-70bd-495d-a8f2-4bb6d3b2be70",
   "metadata": {},
   "outputs": [
    {
     "name": "stdin",
     "output_type": "stream",
     "text": [
      "Enter the name of the language:  Python\n",
      "Enter the name of the language:  Java\n",
      "Enter the name of the language:  Js\n"
     ]
    },
    {
     "name": "stdout",
     "output_type": "stream",
     "text": [
      "Data is written into the file.\n"
     ]
    }
   ],
   "source": [
    "file = open(\"demo3.txt\", \"w\")\n",
    "  \n",
    "for i in range(3):\n",
    "   lang = input(\"Enter the name of the language: \")\n",
    "   file.write(lang)\n",
    "   file.write(\"\\n\")\n",
    "     \n",
    "file.close()\n",
    "  \n",
    "print(\"Data is written into the file.\")\n",
    "\n",
    "'''\n",
    "In demo3.txt \n",
    "Python\n",
    "Java\n",
    "Js \n",
    "will be written\n",
    "\n",
    "Using write() we are writting strings to a file\n",
    "'''"
   ]
  },
  {
   "cell_type": "code",
   "execution_count": 23,
   "id": "8909c4d8-bdd8-4e7d-aa77-25db80269b6c",
   "metadata": {},
   "outputs": [
    {
     "name": "stdin",
     "output_type": "stream",
     "text": [
      "Enter the name of the language:  Java\n",
      "Enter the name of the language:  Js\n",
      "Enter the name of the language:  Golang\n"
     ]
    },
    {
     "name": "stdout",
     "output_type": "stream",
     "text": [
      "Data is written into the file.\n"
     ]
    },
    {
     "data": {
      "text/plain": [
       "'\\nIn demo3.txt \\nPython\\nJava\\nJs \\nwill be written\\n\\nUsing write() we are writting strings to a file\\n'"
      ]
     },
     "execution_count": 23,
     "metadata": {},
     "output_type": "execute_result"
    }
   ],
   "source": [
    "file1 = open(\"demo4.txt\", \"w\")\n",
    "lst = []\n",
    "for i in range(3):\n",
    "    lang = input(\"Enter the name of the language: \")\n",
    "    lst.append(lang + '\\n')\n",
    "      \n",
    "file1.writelines(lst)\n",
    "file1.close()\n",
    "print(\"Data is written into the file.\") \n",
    "\n",
    "\n",
    "'''\n",
    "In demo3.txt \n",
    "Java\n",
    "Js\n",
    "Golang \n",
    "will be written\n",
    "\n",
    "writelines() method is used to write a list of strings in an opened file.\n",
    "'''"
   ]
  },
  {
   "cell_type": "code",
   "execution_count": null,
   "id": "55209909-b7b0-492a-9f76-2bdedcf46b29",
   "metadata": {},
   "outputs": [],
   "source": []
  },
  {
   "cell_type": "code",
   "execution_count": null,
   "id": "5ee3d560-2b35-4265-8535-6133f2666276",
   "metadata": {},
   "outputs": [],
   "source": []
  },
  {
   "cell_type": "code",
   "execution_count": null,
   "id": "2a4265f8-4b27-46e3-9937-1b89ed4f312d",
   "metadata": {},
   "outputs": [],
   "source": []
  }
 ],
 "metadata": {
  "kernelspec": {
   "display_name": "Python 3 (ipykernel)",
   "language": "python",
   "name": "python3"
  },
  "language_info": {
   "codemirror_mode": {
    "name": "ipython",
    "version": 3
   },
   "file_extension": ".py",
   "mimetype": "text/x-python",
   "name": "python",
   "nbconvert_exporter": "python",
   "pygments_lexer": "ipython3",
   "version": "3.10.8"
  }
 },
 "nbformat": 4,
 "nbformat_minor": 5
}
