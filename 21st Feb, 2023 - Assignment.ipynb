{
 "cells": [
  {
   "cell_type": "markdown",
   "id": "6e6c1b77-c0f4-4b3c-a3c6-bdb02317392b",
   "metadata": {},
   "source": [
    "Q1. What is Web Scraping? Why is it Used? Give three areas where Web Scraping is used to get data."
   ]
  },
  {
   "cell_type": "markdown",
   "id": "9bc0007b-4dc2-453f-9794-b676080bf4ad",
   "metadata": {},
   "source": [
    "Web scraping is an automatic method to obtain large amounts of data from websites. Most of this data is unstructured data in an HTML format which is then converted into structured data in a spreadsheet or a database so that it can be used in various applications. \n",
    "Web scraping is used in a variety of digital businesses that rely on data harvesting.\n",
    "\n",
    "Web scrapping is used in, \n",
    "1. Lead Generation for Marketing\n",
    "2. Price Comparison & Competition Monitoring\n",
    "3. E-Commerce"
   ]
  },
  {
   "cell_type": "code",
   "execution_count": null,
   "id": "cc95d954-8a35-4eb0-bcda-4fc8f73d32c8",
   "metadata": {},
   "outputs": [],
   "source": []
  },
  {
   "cell_type": "markdown",
   "id": "bfe8d33f-6489-4766-be1c-a59a3bc4a57d",
   "metadata": {},
   "source": [
    "Q2. What are the different methods used for Web Scraping?"
   ]
  },
  {
   "cell_type": "markdown",
   "id": "cc7f4257-70bb-4d83-b5ed-4a66a7f91190",
   "metadata": {},
   "source": [
    "Text pattern matching,\n",
    "HTTP programming,\n",
    "HTML parsing,\n",
    "DOM parsing,\n",
    "Vertical aggregation"
   ]
  },
  {
   "cell_type": "code",
   "execution_count": null,
   "id": "a0c20572-d558-47e7-93c0-bc5aace37566",
   "metadata": {},
   "outputs": [],
   "source": []
  },
  {
   "cell_type": "markdown",
   "id": "8c289d71-2b5c-44cf-b944-1d8444a9b8d8",
   "metadata": {},
   "source": [
    "Q3. What is Beautiful Soup? Why is it used?"
   ]
  },
  {
   "cell_type": "markdown",
   "id": "6cbb194d-da5e-4df9-8118-92315ce3a18a",
   "metadata": {},
   "source": [
    "Beautiful Soup is a Python library that makes it easy to scrape information from web pages. It sits atop an HTML or XML parser and provides Pythonic idioms for iterating, searching, and modifying the parse tree."
   ]
  },
  {
   "cell_type": "code",
   "execution_count": null,
   "id": "091287de-1da3-44e3-a3f9-050015b12b31",
   "metadata": {},
   "outputs": [],
   "source": []
  },
  {
   "cell_type": "markdown",
   "id": "1411b2d4-f283-42cd-a17c-035e83253afc",
   "metadata": {},
   "source": [
    "Q4. Why is flask used in this Web Scraping project?"
   ]
  },
  {
   "cell_type": "markdown",
   "id": "0d83e3cd-1dcd-46d6-9988-77f5ebcc5b01",
   "metadata": {},
   "source": [
    " Flask was used to build backend for this project. The logic for scrapping was embeded in the flask service code."
   ]
  },
  {
   "cell_type": "code",
   "execution_count": null,
   "id": "fb7f4beb-36a6-4d8f-adb6-866f3ebe6a14",
   "metadata": {},
   "outputs": [],
   "source": []
  },
  {
   "cell_type": "markdown",
   "id": "a96971fa-fb96-4d94-97be-c2738c4222c5",
   "metadata": {},
   "source": [
    "Q5. Write the names of AWS services used in this project. Also, explain the use of each service."
   ]
  },
  {
   "cell_type": "markdown",
   "id": "3b4af5a1-98a0-49d3-8288-1eb216cbda44",
   "metadata": {},
   "source": [
    "AWS CodeDeploy:\n",
    "AWS CodeDeploy is a fully managed deployment service that automates software deployments to various compute services, such as Amazon Elastic Compute Cloud (EC2), Amazon Elastic Container Service (ECS), AWS Lambda, and your on-premises servers. Use CodeDeploy to automate software deployments, eliminating the need for error-prone manual operations.\n",
    "\n",
    "AWS Elastic Beanstalk:\n",
    "Elastic Beanstalk is a service for deploying and scaling web applications and services. Upload your code and Elastic Beanstalk automatically handles the deployment—from capacity provisioning, load balancing, and auto scaling to application health monitoring."
   ]
  },
  {
   "cell_type": "code",
   "execution_count": null,
   "id": "79e053f5-28dc-47b0-b2f5-dc2806d31de3",
   "metadata": {},
   "outputs": [],
   "source": []
  },
  {
   "cell_type": "code",
   "execution_count": null,
   "id": "6becfbad-5637-494e-ab9f-a43fb4b82e46",
   "metadata": {},
   "outputs": [],
   "source": []
  }
 ],
 "metadata": {
  "kernelspec": {
   "display_name": "Python 3 (ipykernel)",
   "language": "python",
   "name": "python3"
  },
  "language_info": {
   "codemirror_mode": {
    "name": "ipython",
    "version": 3
   },
   "file_extension": ".py",
   "mimetype": "text/x-python",
   "name": "python",
   "nbconvert_exporter": "python",
   "pygments_lexer": "ipython3",
   "version": "3.10.8"
  }
 },
 "nbformat": 4,
 "nbformat_minor": 5
}
