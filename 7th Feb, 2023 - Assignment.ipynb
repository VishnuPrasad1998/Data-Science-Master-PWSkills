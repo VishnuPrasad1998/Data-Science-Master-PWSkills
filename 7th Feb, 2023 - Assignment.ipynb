{
 "cells": [
  {
   "cell_type": "markdown",
   "id": "d3e4dbac-6545-45bb-a284-a6bd2de81938",
   "metadata": {},
   "source": [
    "Q1. You are writing code for a company. The requirement of the company is that you create a python\n",
    "function that will check whether the password entered by the user is correct or not. The function should\n",
    "take the password as input and return the string “Valid Password” if the entered password follows the\n",
    "below-given password guidelines else it should return “Invalid Password”.\n",
    "Note: 1. The Password should contain at least two uppercase letters and at least two lowercase letters.\n",
    "2. The Password should contain at least a number and three special characters.\n",
    "3. The length of the password should be 10 characters long."
   ]
  },
  {
   "cell_type": "code",
   "execution_count": 20,
   "id": "5ff45d46-6523-4e1a-9a4a-cc6ba643997f",
   "metadata": {},
   "outputs": [
    {
     "name": "stdin",
     "output_type": "stream",
     "text": [
      " $@chIN200!\n"
     ]
    },
    {
     "name": "stdout",
     "output_type": "stream",
     "text": [
      "Valid Password\n"
     ]
    }
   ],
   "source": [
    "def password_checker(pswd):\n",
    "    lower=0\n",
    "    upper=0\n",
    "    sc = 0\n",
    "    num = 0\n",
    "    for i in pswd:\n",
    "        if i.islower():\n",
    "            lower += 1\n",
    "        if i.upper():\n",
    "            upper += 1\n",
    "        if i.isdigit():\n",
    "            num += 1\n",
    "        if i in '[@_!#$%^&*()<>?/\\|}{~:]':\n",
    "            sc += 1\n",
    "    if lower >= 2 and upper >=2 and num >= 1 and sc == 3 and len(pswd) == 10:\n",
    "        return \"Valid Password\"\n",
    "    else:\n",
    "        return \"Invalid Password\"\n",
    "\n",
    "pswd = str(input())\n",
    "print(password_checker(pswd))"
   ]
  },
  {
   "cell_type": "markdown",
   "id": "7cd95eb0-45da-4157-bae6-bf3a0dcd1573",
   "metadata": {},
   "source": [
    "Q2. Solve the below-given questions using at least one of the following:\n",
    "1. Lambda function\n",
    "2. Filter function\n",
    "3. Zap function\n",
    "4. List Comprehension\n",
    "\n",
    "B Check if the string starts with a particular letterY\n",
    "B Check if the string is numericY\n",
    "B Sort a list of tuples having fruit names and their quantity. [(\"mango\",99),(\"orange\",80), (\"grapes\", 1000)-\n",
    "B Find the squares of numbers from 1 to 10Y\n",
    "B Find the cube root of numbers from 1 to 10Y\n",
    "B Check if a given number is evenY\n",
    "B Filter odd numbers from the given list.\n",
    "[1,2,3,4,5,6,7,8,9,10-\n",
    "B Sort a list of integers into positive and negative integers lists.\n",
    "[1,2,3,4,5,6,-1,-2,-3,-4,-5,0]"
   ]
  },
  {
   "cell_type": "markdown",
   "id": "3041c443-ce98-4d89-9233-3bee16b16872",
   "metadata": {},
   "source": [
    "Filter odd numbers from the given list.\n",
    "[1,2,3,4,5,6,7,8,9,10]"
   ]
  },
  {
   "cell_type": "code",
   "execution_count": 25,
   "id": "672af823-a216-4d51-92e1-59d18e07de16",
   "metadata": {},
   "outputs": [
    {
     "data": {
      "text/plain": [
       "[1, 3, 5, 7, 9]"
      ]
     },
     "execution_count": 25,
     "metadata": {},
     "output_type": "execute_result"
    }
   ],
   "source": [
    "list(filter(lambda x: x % 2 != 0, [1,2,3,4,5,6,7,8,9,10]))"
   ]
  },
  {
   "cell_type": "markdown",
   "id": "8afa7db2-4140-48bb-ace6-22464638b149",
   "metadata": {},
   "source": [
    "Sort a list of integers into positive and negative integers lists. [1,2,3,4,5,6,-1,-2,-3,-4,-5,0]"
   ]
  },
  {
   "cell_type": "code",
   "execution_count": 27,
   "id": "4c986a02-550e-46d7-852f-1bc747678eae",
   "metadata": {},
   "outputs": [
    {
     "name": "stdout",
     "output_type": "stream",
     "text": [
      "[1, 2, 3, 4, 5, 6, 0] [-1, -2, -3, -4, -5]\n"
     ]
    }
   ],
   "source": [
    "pos_list = list(filter(lambda x: x >= 0, [1,2,3,4,5,6,-1,-2,-3,-4,-5,0]))\n",
    "neg_list = list(filter(lambda x: x < 0, [1,2,3,4,5,6,-1,-2,-3,-4,-5,0]))\n",
    "print(pos_list, neg_list)"
   ]
  },
  {
   "cell_type": "markdown",
   "id": "f2db2740-f107-4a43-9dcb-9df6781ed40b",
   "metadata": {},
   "source": [
    "Check if a given number is even"
   ]
  },
  {
   "cell_type": "code",
   "execution_count": 28,
   "id": "1034674c-ae37-4d89-8285-6ec78b73a4ab",
   "metadata": {},
   "outputs": [
    {
     "name": "stdin",
     "output_type": "stream",
     "text": [
      " 3\n"
     ]
    },
    {
     "name": "stdout",
     "output_type": "stream",
     "text": [
      "Odd number\n"
     ]
    }
   ],
   "source": [
    "n=int(input())\n",
    "odd_even=lambda n:\"Even number\" if(n%2==0) else \"Odd number\"\n",
    "print(odd_even(n))"
   ]
  },
  {
   "cell_type": "markdown",
   "id": "ea7b02c6-8dec-49a9-8da3-78a0300196d4",
   "metadata": {},
   "source": [
    "Find the cube root of numbers from 1 to 10"
   ]
  },
  {
   "cell_type": "code",
   "execution_count": 30,
   "id": "de38dd41-9a22-45c5-bc22-e45ec7ab69cb",
   "metadata": {},
   "outputs": [
    {
     "name": "stdout",
     "output_type": "stream",
     "text": [
      "[1.0, 1.2599210498948732, 1.4422495703074083, 1.5874010519681994, 1.7099759466766968, 1.8171205928321397, 1.912931182772389, 2.0, 2.080083823051904]\n"
     ]
    }
   ],
   "source": [
    "c_list = [n ** (1/3) for n in range(1,10)]\n",
    "print(c_list)"
   ]
  },
  {
   "cell_type": "markdown",
   "id": "715ee329-928e-4997-8855-a4c9bcd0f953",
   "metadata": {},
   "source": [
    "Find the squares of numbers from 1 to 10"
   ]
  },
  {
   "cell_type": "code",
   "execution_count": 31,
   "id": "f211797b-4eb3-4108-9691-16d3726f46d5",
   "metadata": {},
   "outputs": [
    {
     "name": "stdout",
     "output_type": "stream",
     "text": [
      "[1, 4, 9, 16, 25, 36, 49, 64, 81]\n"
     ]
    }
   ],
   "source": [
    "s_list = [n ** 2 for n in range(1,10)]\n",
    "print(s_list)"
   ]
  },
  {
   "cell_type": "markdown",
   "id": "dd6f3226-a0eb-4afa-ba18-d1017e008e1f",
   "metadata": {},
   "source": [
    "Sort a list of tuples having fruit names and their quantity. [(\"mango\",99),(\"orange\",80), (\"grapes\", 1000)]"
   ]
  },
  {
   "cell_type": "code",
   "execution_count": 37,
   "id": "8cc2b6d5-7725-488b-8882-eb6817898cbb",
   "metadata": {},
   "outputs": [
    {
     "name": "stdout",
     "output_type": "stream",
     "text": [
      "[('orange', 80), ('mango', 99), ('grapes', 1000)]\n",
      "[('grapes', 1000), ('mango', 99), ('orange', 80)]\n"
     ]
    }
   ],
   "source": [
    "fruits = [(\"mango\",99),(\"orange\",80), (\"grapes\", 1000)]\n",
    "\n",
    "# Based on quantity\n",
    "fruits.sort(key = lambda x: x[1])\n",
    "print(fruits)\n",
    "\n",
    "# Based on name\n",
    "fruits.sort(key = lambda x: x[0])\n",
    "print(fruits)"
   ]
  },
  {
   "cell_type": "markdown",
   "id": "5e59cce0-66c3-4143-9653-c4f06273481a",
   "metadata": {},
   "source": [
    "Check if the string starts with a particular letter"
   ]
  },
  {
   "cell_type": "code",
   "execution_count": 42,
   "id": "d18b523e-35f3-46af-ac90-6e43a5f4efd1",
   "metadata": {},
   "outputs": [
    {
     "name": "stdin",
     "output_type": "stream",
     "text": [
      " a\n",
      " american citizenship\n"
     ]
    },
    {
     "name": "stdout",
     "output_type": "stream",
     "text": [
      "Yes it starts with character\n"
     ]
    }
   ],
   "source": [
    "ch=str(input())\n",
    "string1 = str(input())\n",
    "\n",
    "start_with=lambda string1, ch :\"Yes it starts with character\" if string1[0] == ch else \"No it doesnot start with that char\"\n",
    "\n",
    "print(start_with(string1, ch))"
   ]
  },
  {
   "cell_type": "markdown",
   "id": "191751ec-bb82-4ba9-8d07-ea5c343e272f",
   "metadata": {},
   "source": [
    "Check if the string is numeric"
   ]
  },
  {
   "cell_type": "code",
   "execution_count": null,
   "id": "e6c2537c-7f60-4d32-94e7-a926b562d12a",
   "metadata": {},
   "outputs": [],
   "source": [
    "string1 = str(input())\n",
    "numeric=lambda string1 :\"Yes it is numeric\" if string1.isnum else \"No it is not numeric\"\n",
    "print(numeric(string1))"
   ]
  }
 ],
 "metadata": {
  "kernelspec": {
   "display_name": "Python 3 (ipykernel)",
   "language": "python",
   "name": "python3"
  },
  "language_info": {
   "codemirror_mode": {
    "name": "ipython",
    "version": 3
   },
   "file_extension": ".py",
   "mimetype": "text/x-python",
   "name": "python",
   "nbconvert_exporter": "python",
   "pygments_lexer": "ipython3",
   "version": "3.10.8"
  }
 },
 "nbformat": 4,
 "nbformat_minor": 5
}
