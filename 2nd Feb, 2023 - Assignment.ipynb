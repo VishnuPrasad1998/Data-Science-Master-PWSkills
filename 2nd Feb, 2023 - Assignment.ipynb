{
 "cells": [
  {
   "cell_type": "markdown",
   "id": "4764d6b9-a88a-4ab1-9399-ac2a017adc99",
   "metadata": {},
   "source": [
    "Q1. What are the characteristics of the tuples? Is tuple immutable?"
   ]
  },
  {
   "cell_type": "markdown",
   "id": "927ee89c-2ab4-4eca-945d-0eec988f427b",
   "metadata": {},
   "source": [
    "Answer: \n",
    "Tuples are indexed. They are ordered. These are immutable. They can contain duplicate items. Yes they are immutable which means changing the values by accessing the index is not allowed"
   ]
  },
  {
   "cell_type": "markdown",
   "id": "a59544e3-7bec-4bad-bb1e-7ecd8821644d",
   "metadata": {},
   "source": [
    "Q2. What are the two tuple methods in python? Give an example of each method. Give a reason why\n",
    "tuples have only two in-built methods as compared to Lists."
   ]
  },
  {
   "cell_type": "markdown",
   "id": "4f8c4c24-7343-4c4f-838b-4128e2504a0a",
   "metadata": {},
   "source": [
    "Answer: Tuple has two in built methods only they are count() and index()\n",
    "Eg. tuple1 = (1,3,7,8,7,6,4)\n",
    "print(tuple1.count(7)) // prints 2\n",
    "print(tuple1.index(8)) // print 3\n",
    "\n",
    "Since tuples are immutable its real life use case includes just storing datas that wont be modified. So scenarios wherefetching the count comes to picture. Also the index of certain values are also needed. So unlike list it does not have many other builtin functions."
   ]
  },
  {
   "cell_type": "markdown",
   "id": "5de95c8f-000a-409a-b43f-9e34ea72b96f",
   "metadata": {},
   "source": [
    "Q3. Which collection datatypes in python do not allow duplicate items? Write a code using a set to remove\n",
    "duplicates from the given list.\n",
    "List = [1, 1, 1, 2, 1, 3, 1, 4, 2, 1, 2, 2, 2, 3, 2, 4, 3, 1, 3, 2, 3, 3, 3, 4, 4, 1, 4, 2, 4, 3, 4, 4]"
   ]
  },
  {
   "cell_type": "markdown",
   "id": "ce98bdfa-80fb-45b0-b5d2-7954717514f5",
   "metadata": {},
   "source": [
    "Answer: Set is the data type that does not allow duplicates .\n",
    "\n",
    "Code will look like:"
   ]
  },
  {
   "cell_type": "code",
   "execution_count": 4,
   "id": "03993fbf-3cf4-410a-95a7-7f2ad9993b1c",
   "metadata": {},
   "outputs": [
    {
     "name": "stdout",
     "output_type": "stream",
     "text": [
      "[1, 2, 3, 4]\n"
     ]
    }
   ],
   "source": [
    "List =  [1, 1, 1, 2, 1, 3, 1, 4, 2, 1, 2, 2, 2, 3, 2, 4, 3, 1, 3, 2, 3, 3, 3, 4, 4, 1, 4, 2, 4, 3, 4, 4]\n",
    "print(list(set(List)))"
   ]
  },
  {
   "cell_type": "markdown",
   "id": "0e322049-c227-4db5-8658-b59580cb7807",
   "metadata": {},
   "source": [
    "Q4. Explain the difference between the union() and update() methods for a set. Give an example of\n",
    "each method."
   ]
  },
  {
   "cell_type": "markdown",
   "id": "bf8f8c62-4881-4c60-826c-21e0335c8c87",
   "metadata": {},
   "source": [
    "Answer: \n",
    "Both set.update() and set.union() perform the union operation. However, set.update() adds all missing elements to the set on which it is called whereas set.union() creates a new set."
   ]
  },
  {
   "cell_type": "code",
   "execution_count": 8,
   "id": "866a9740-fbc8-40ea-ad3a-bbb464d983b8",
   "metadata": {},
   "outputs": [
    {
     "name": "stdout",
     "output_type": "stream",
     "text": [
      "{'a', 'c', 'd', 'b', 'f', 'e'}\n"
     ]
    }
   ],
   "source": [
    "x = {\"a\", \"b\", \"c\"}\n",
    "y = {\"d\", \"e\", \"f\"}\n",
    "\n",
    "x.update(y)\n",
    "\n",
    "print(x)"
   ]
  },
  {
   "cell_type": "code",
   "execution_count": 10,
   "id": "834e8ecc-5562-4ce1-882b-a01dd6695957",
   "metadata": {},
   "outputs": [
    {
     "name": "stdout",
     "output_type": "stream",
     "text": [
      "{'a', 'c', 'd', 'b', 'f', 'e'}\n"
     ]
    }
   ],
   "source": [
    "x = {\"a\", \"b\", \"c\"}\n",
    "y = {\"d\", \"e\", \"f\"}\n",
    "\n",
    "t = x.union(y)\n",
    "\n",
    "print(t)"
   ]
  },
  {
   "cell_type": "markdown",
   "id": "3aa3e435-9c60-4d9e-8f5b-1a5f82421aa1",
   "metadata": {},
   "source": [
    "Q5. What is a dictionary? Give an example. Also, state whether a dictionary is ordered or unordered."
   ]
  },
  {
   "cell_type": "markdown",
   "id": "7b253bdd-ff00-4501-b5c7-67d682e9c170",
   "metadata": {},
   "source": [
    "Answer: Dictionaries are used to store data values in key:value pairs.\n",
    "eg.\n",
    "student_details = {\n",
    "  \"name\": \"Vishnu\",\n",
    "  \"age\": 24,\n",
    "  \"dob\": 1998\n",
    "}\n",
    "\n",
    "Dictionaries are ordered for versions of python above 3.7 earlier they were unordered"
   ]
  },
  {
   "cell_type": "markdown",
   "id": "0eb48744-4d6a-4337-8bf4-23930e16a926",
   "metadata": {},
   "source": [
    "Q6. Can we create a nested dictionary? If so, please give an example by creating a simple one-level\n",
    "nested dictionary."
   ]
  },
  {
   "cell_type": "markdown",
   "id": "a20d2473-80ca-42a5-a0c0-21d75a58dd91",
   "metadata": {},
   "source": [
    "Answer: Yes its possible "
   ]
  },
  {
   "cell_type": "code",
   "execution_count": 18,
   "id": "7cd67244-f511-4e87-bcd2-1684f1732114",
   "metadata": {},
   "outputs": [
    {
     "name": "stdout",
     "output_type": "stream",
     "text": [
      "{'name': 'Vishnu', 'age': 24, 'contact': {'email': 'vishnu1998prasad@gmail.com', 'phone': '9809787665'}} <class 'dict'>\n"
     ]
    }
   ],
   "source": [
    "my_dict = {'name': 'Vishnu', 'age': 24, 'contact': {'email' : 'vishnu1998prasad@gmail.com', 'phone' : '9809787665'}}\n",
    "print(my_dict, type(my_dict))"
   ]
  },
  {
   "cell_type": "markdown",
   "id": "05f78c0b-6d93-41fd-9620-7d5fcc742bbf",
   "metadata": {},
   "source": [
    "Q7. Using setdefault() method, create key named topics in the given dictionary and also add the value of\n",
    "the key as this list ['Python', 'Machine Learning’, 'Deep Learning']"
   ]
  },
  {
   "cell_type": "markdown",
   "id": "e8508868-ff41-4f4e-a82b-45a3437b7edc",
   "metadata": {},
   "source": [
    "Answer:"
   ]
  },
  {
   "cell_type": "code",
   "execution_count": 25,
   "id": "62c1cd55-c527-4c2b-8540-ff51d3bafba7",
   "metadata": {},
   "outputs": [
    {
     "name": "stdout",
     "output_type": "stream",
     "text": [
      "{'topic': ['Python', 'Machine Learning', 'Deep learning']}\n"
     ]
    }
   ],
   "source": [
    "List = [\"Python\", \"Machine Learning\", \"Deep learning\"]\n",
    "my_dict = {}\n",
    "my_dict.setdefault(\"topic\", List)\n",
    "print(my_dict)"
   ]
  },
  {
   "cell_type": "markdown",
   "id": "f20e1ebf-e595-4bab-83e4-111791874413",
   "metadata": {},
   "source": [
    "Q8. What are the three view objects in dictionaries? Use the three in-built methods in python to display\n",
    "these three view objects for the given dictionary.\n",
    "dict1 = {'Sport': 'Cricket' , 'Teams': ['India', 'Australia', 'England', 'South Africa', 'Sri Lanka', 'New Zealand']}"
   ]
  },
  {
   "cell_type": "markdown",
   "id": "f1afd8f9-7cf8-47e5-b491-050ecdb2f119",
   "metadata": {},
   "source": [
    "Answer:\n",
    "keys(): keys represent all the keys in a dictionary\n",
    "\n",
    "values():represent all the values in a dictionary\n",
    "\n",
    "items(): represents all keys and values in a dictionary"
   ]
  },
  {
   "cell_type": "code",
   "execution_count": 30,
   "id": "5ae6f830-5ea2-4e03-9f66-62d1f826d7e1",
   "metadata": {},
   "outputs": [
    {
     "name": "stdout",
     "output_type": "stream",
     "text": [
      "Keys:  dict_keys(['Sport', 'Teams'])\n",
      "Values:  dict_values(['Cricket', ['India', 'Australia', 'England', 'South Africa', 'Sri Lanka', 'New Zealand']])\n",
      "Items:  dict_items([('Sport', 'Cricket'), ('Teams', ['India', 'Australia', 'England', 'South Africa', 'Sri Lanka', 'New Zealand'])])\n"
     ]
    }
   ],
   "source": [
    "dict1 = {'Sport': 'Cricket' , 'Teams': ['India', 'Australia', 'England', 'South Africa', 'Sri Lanka', 'New Zealand']}\n",
    "print(\"Keys: \", dict1.keys())\n",
    "print(\"Values: \", dict1.values())\n",
    "print(\"Items: \", dict1.items())"
   ]
  },
  {
   "cell_type": "code",
   "execution_count": null,
   "id": "4a3dbf35-8b3a-4092-a899-0539f26c6505",
   "metadata": {},
   "outputs": [],
   "source": []
  }
 ],
 "metadata": {
  "kernelspec": {
   "display_name": "Python 3 (ipykernel)",
   "language": "python",
   "name": "python3"
  },
  "language_info": {
   "codemirror_mode": {
    "name": "ipython",
    "version": 3
   },
   "file_extension": ".py",
   "mimetype": "text/x-python",
   "name": "python",
   "nbconvert_exporter": "python",
   "pygments_lexer": "ipython3",
   "version": "3.10.8"
  }
 },
 "nbformat": 4,
 "nbformat_minor": 5
}
