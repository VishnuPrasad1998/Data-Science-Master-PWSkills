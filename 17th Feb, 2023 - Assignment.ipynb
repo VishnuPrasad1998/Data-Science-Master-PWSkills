{
 "cells": [
  {
   "cell_type": "markdown",
   "id": "403f11e5-a7a2-47e1-b7b8-aa984b54e5c3",
   "metadata": {},
   "source": [
    "Q1. What is MongoDB? Explain non-relational databases in short. In which scenarios it is preferred to use\n",
    "MongoDB over SQL databases?"
   ]
  },
  {
   "cell_type": "markdown",
   "id": "f6287f3c-11f1-4e11-ad19-b46abee6846c",
   "metadata": {},
   "source": [
    "Ans) MongoDB is a document-oriented NoSQL database system that is designed for scalability, flexibility, and performance. Unlike traditional relational databases like SQL, MongoDB is a non-relational database that uses a document data model to store data in a JSON-like format.\n",
    "\n",
    "Non-relational databases, also known as NoSQL databases, are databases that do not use the traditional tabular structure of SQL databases. Instead, they use different data models, such as document-oriented, key-value, graph, or column-family data models.\n",
    "\n",
    "Mongodb is more preferred if:\n",
    "\n",
    "1. The data model is not well-defined or changes frequently: Unlike SQL databases, MongoDB does not require a predefined schema, which makes it easy to store and retrieve data with varying structures. \n",
    "2. The data needs to be highly scalable: MongoDB is designed to be highly scalable, and it can handle large volumes of data with ease."
   ]
  },
  {
   "cell_type": "code",
   "execution_count": null,
   "id": "2781ec5d-c07e-4153-b9ad-2aa155d69ca1",
   "metadata": {},
   "outputs": [],
   "source": []
  },
  {
   "cell_type": "markdown",
   "id": "48ea7e08-808f-422f-96cd-849991ccf19a",
   "metadata": {},
   "source": [
    "Q2. State and Explain the features of MongoDB."
   ]
  },
  {
   "cell_type": "markdown",
   "id": "e5d620f2-dbbe-49dc-8bc0-a9c6452b24c4",
   "metadata": {},
   "source": [
    "Ans) \n",
    "1. Document data model: MongoDB uses a document data model to store data in a JSON-like format. This allows for flexible and dynamic data structures that can be easily modified.\n",
    "\n",
    "2. Scalability: MongoDB is designed to be highly scalable, both horizontally and vertically. It supports automatic sharding, which allows for the distribution of data across multiple nodes, and it can handle large volumes of data with ease.\n",
    "\n",
    "3. High availability: MongoDB supports replication, which allows for the creation of multiple copies of data across different nodes. This ensures high availability and fault tolerance.\n",
    "\n",
    "4. Flexible data model: MongoDB does not require a predefined schema, which makes it easy to store and retrieve data with varying structures.\n",
    "\n",
    "5. Indexing: MongoDB supports indexing, which allows for fast and efficient queries.\n",
    "\n",
    "6. Aggregation: MongoDB supports aggregation, which allows for the processing and analysis of large volumes of data in real-time.\n",
    "\n",
    "7. Ad-hoc queries: MongoDB supports ad-hoc queries, which allows for flexible and dynamic querying of data.\n",
    "\n",
    "8. Geospatial queries: MongoDB supports geospatial queries, which allows for the storage and querying of geospatial data.\n",
    "\n",
    "9. Full-text search: MongoDB supports full-text search, which allows for efficient searching of text data.\n",
    "\n",
    "10. ACID transactions: MongoDB supports ACID transactions, which ensures data consistency and integrity.\n"
   ]
  },
  {
   "cell_type": "code",
   "execution_count": null,
   "id": "f2e41772-ff1d-4f3c-8b31-b51948311933",
   "metadata": {},
   "outputs": [],
   "source": []
  },
  {
   "cell_type": "markdown",
   "id": "c2bfd928-c181-44ca-92df-4ae20dcddd71",
   "metadata": {},
   "source": [
    "Q3. Write a code to connect MongoDB to Python. Also, create a database and a collection in MongoDB."
   ]
  },
  {
   "cell_type": "code",
   "execution_count": null,
   "id": "3ac4e2f3-0ce0-4be0-ace5-c061b2614ee2",
   "metadata": {},
   "outputs": [],
   "source": [
    "import pymongo\n",
    "\n",
    "client = pymongo.MongoClient(\"mongodb://localhost:27017/\")\n",
    "\n",
    "#DB creation\n",
    "mydb = client[\"College\"]\n",
    "\n",
    "#Collection Creation\n",
    "stud_col = mydb[\"Students\"]\n",
    "\n",
    "staff_col = mydb[\"Staffs\"]"
   ]
  },
  {
   "cell_type": "code",
   "execution_count": null,
   "id": "9ab9ee32-17e5-4560-84b7-b93e5a0f01ea",
   "metadata": {},
   "outputs": [],
   "source": []
  },
  {
   "cell_type": "markdown",
   "id": "ea7dc2db-761c-4cef-8999-789977c98757",
   "metadata": {},
   "source": [
    "Q4. Using the database and the collection created in question number 3, write a code to insert one record,\n",
    "and insert many records. Use the find() and find_one() methods to print the inserted record."
   ]
  },
  {
   "cell_type": "code",
   "execution_count": null,
   "id": "1c228512-842c-4ea2-b1cf-97e98f298b01",
   "metadata": {},
   "outputs": [],
   "source": [
    "import pymongo\n",
    "\n",
    "client = pymongo.MongoClient(\"mongodb://localhost:27017/\")\n",
    "\n",
    "#DB creation\n",
    "mydb = client[\"College\"]\n",
    "\n",
    "#Collection Creation\n",
    "stud_col = mydb[\"Students\"]\n",
    "\n",
    "staff_col = mydb[\"Staffs\"]\n",
    "\n",
    "stud_data = {\n",
    "    \"Name\": \"Vishnu\",\n",
    "    \"Age\": 24\n",
    "}\n",
    "\n",
    "stud_data_list = [{\n",
    "    \"Name\": \"Vishnu\",\n",
    "    \"Age\": 24\n",
    "    },{\n",
    "    \"Name\": \"Ram\",\n",
    "    \"Age\": 23\n",
    "    },{\n",
    "    \"Name\": \"Shyam\",\n",
    "    \"Age\": 24\n",
    "    }]\n",
    "\n",
    "stud_col.insert(stud_data)\n",
    "stud_col.insert_many(stud_data_list)\n",
    "\n",
    "for i in stud_col.find():\n",
    "    print(i)\n",
    "    \n",
    "stud_col.find_one()\n"
   ]
  },
  {
   "cell_type": "code",
   "execution_count": null,
   "id": "9ab45f7e-0ba0-493e-ac1f-7b61ff2f3d08",
   "metadata": {},
   "outputs": [],
   "source": []
  },
  {
   "cell_type": "markdown",
   "id": "d230446f-146d-4103-8746-47d816a8dbca",
   "metadata": {},
   "source": [
    "Q5. Explain how you can use the find() method to query the MongoDB database. Write a simple code to\n",
    "demonstrate this."
   ]
  },
  {
   "cell_type": "code",
   "execution_count": null,
   "id": "6b1f7ca1-c20e-4dc6-bea2-7c84190b056f",
   "metadata": {},
   "outputs": [],
   "source": [
    "#In above example .find() will fetch all result to to print them we are iterating through the result\n",
    "for st in stud_col.find():\n",
    "    print(st)"
   ]
  },
  {
   "cell_type": "code",
   "execution_count": null,
   "id": "406a7935-bbdf-45aa-8bbf-9b08c36d7eb6",
   "metadata": {},
   "outputs": [],
   "source": []
  },
  {
   "cell_type": "markdown",
   "id": "56248a90-9390-4401-b8a5-a0453fa35551",
   "metadata": {},
   "source": [
    "Q6. Explain the sort() method. Give an example to demonstrate sorting in MongoDB."
   ]
  },
  {
   "cell_type": "markdown",
   "id": "a6e66985-5098-4a9d-ac24-0cd13e2cd5a8",
   "metadata": {},
   "source": [
    "Ans) The sort() method in MongoDB is used to sort the documents in a collection based on a specified field or fields. The sort() method takes one parameter, which is a dictionary that specifies the field or fields to sort by and the sort order (ascending or descending).\n",
    "\n",
    "eg. \n",
    "results = stud_col.find().sort(\"age\", -1)\n",
    "    \n",
    "-1 refers to descending order and 1 refers to ascending order"
   ]
  },
  {
   "cell_type": "code",
   "execution_count": null,
   "id": "0f84d2eb-c078-4b4f-896e-3ac860590246",
   "metadata": {},
   "outputs": [],
   "source": []
  },
  {
   "cell_type": "markdown",
   "id": "257f5783-03d1-4f5e-9a23-ffefcf6123ef",
   "metadata": {},
   "source": [
    "Q7. Explain why delete_one(), delete_many(), and drop() is used."
   ]
  },
  {
   "cell_type": "markdown",
   "id": "a3910baa-7e3e-4be9-8bfd-31ebe7631017",
   "metadata": {},
   "source": [
    "Ans)\n",
    "delete_one() is used to delete a single document from a collection that matches a specified filter. \n",
    "\n",
    "eg. \n",
    "result = stud_col.delete_one({\"name\": \"Vishnu\"})\n",
    "\n",
    "delete_many() is used to delete multiple documents from a collection that match a specified filter. \n",
    "\n",
    "eg.\n",
    "result = stud_col.delete_many({\"age\": {\"$lt\": 30}})\n",
    "\n",
    "drop() is used to drop an entire collection from the database.\n",
    "\n",
    "eg.\n",
    "stud_col.drop()"
   ]
  },
  {
   "cell_type": "code",
   "execution_count": null,
   "id": "e2d7f2b0-b8f1-41ff-895f-20d28d8801e0",
   "metadata": {},
   "outputs": [],
   "source": []
  },
  {
   "cell_type": "code",
   "execution_count": null,
   "id": "7b84e63b-4733-4eaf-8e97-12e6cc2d04e3",
   "metadata": {},
   "outputs": [],
   "source": []
  }
 ],
 "metadata": {
  "kernelspec": {
   "display_name": "Python 3 (ipykernel)",
   "language": "python",
   "name": "python3"
  },
  "language_info": {
   "codemirror_mode": {
    "name": "ipython",
    "version": 3
   },
   "file_extension": ".py",
   "mimetype": "text/x-python",
   "name": "python",
   "nbconvert_exporter": "python",
   "pygments_lexer": "ipython3",
   "version": "3.10.8"
  }
 },
 "nbformat": 4,
 "nbformat_minor": 5
}
