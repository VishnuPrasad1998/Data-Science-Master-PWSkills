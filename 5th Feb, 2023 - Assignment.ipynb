{
 "cells": [
  {
   "cell_type": "markdown",
   "id": "5a0dda78-13eb-4336-bcb1-ca579639e7c9",
   "metadata": {},
   "source": [
    "Q1. Explain Class and Object with respect to Object-Oriented Programming. Give a suitable example."
   ]
  },
  {
   "cell_type": "markdown",
   "id": "e740d581-ab75-4e3b-a2cc-94d423b9cd88",
   "metadata": {},
   "source": [
    "Answer: \n",
    "A Class is like an object constructor, or a \"blueprint\" for creating objects.\n",
    "An object is a instance of a Class"
   ]
  },
  {
   "cell_type": "code",
   "execution_count": 7,
   "id": "c490dc4f-49ee-4012-a7a4-818776489574",
   "metadata": {},
   "outputs": [
    {
     "name": "stdout",
     "output_type": "stream",
     "text": [
      "Vishnu\n"
     ]
    }
   ],
   "source": [
    "class Student:\n",
    "    def __init__(self, name):\n",
    "        self.name = name\n",
    "\n",
    "s = Student(\"Vishnu\")\n",
    "print(s.name)"
   ]
  },
  {
   "cell_type": "markdown",
   "id": "25ab182f-173f-4da2-a4d2-e8fe40614113",
   "metadata": {},
   "source": [
    "Q2. Name the four pillars of OOPs."
   ]
  },
  {
   "cell_type": "markdown",
   "id": "10d2dc82-3435-4396-9d3c-6f364660d3e0",
   "metadata": {},
   "source": [
    "Answer: Inheritance, Polymorphism, Encapsulation and Abstraction"
   ]
  },
  {
   "cell_type": "markdown",
   "id": "21dd5d33-200f-47ca-b972-835febcfdb64",
   "metadata": {},
   "source": [
    "Q3. Explain why the __init__() function is used. Give a suitable example."
   ]
  },
  {
   "cell_type": "markdown",
   "id": "bebe3001-24ca-40dc-9140-4153843f8825",
   "metadata": {},
   "source": [
    "Answer: __init__() function to assign values to object properties, or other operations that are necessary to do when the object is being created"
   ]
  },
  {
   "cell_type": "code",
   "execution_count": 9,
   "id": "85690ff5-5f2a-4b81-afc8-337d45c99a26",
   "metadata": {},
   "outputs": [
    {
     "name": "stdout",
     "output_type": "stream",
     "text": [
      "24\n"
     ]
    }
   ],
   "source": [
    "class Student:\n",
    "    def __init__(self, name, age):\n",
    "        self.name = name\n",
    "        self.age = age\n",
    "\n",
    "s = Student(\"Vishnu\", 24)\n",
    "\n",
    "print(s.age)"
   ]
  },
  {
   "cell_type": "markdown",
   "id": "7c48d6b6-d2de-4098-adcf-2042d28270f1",
   "metadata": {},
   "source": [
    "Q4. Why self is used in OOPs?"
   ]
  },
  {
   "cell_type": "markdown",
   "id": "e9b32b34-20a0-41a3-a607-09c5fad9e5ce",
   "metadata": {},
   "source": [
    "self represents the instance of the class. By using the “self” we can access the attributes and methods of the class in python. It binds the attributes with the given arguments"
   ]
  },
  {
   "cell_type": "markdown",
   "id": "90f36f98-fcbe-4cbf-93d1-11552646bacb",
   "metadata": {},
   "source": [
    "Q5. What is inheritance? Give an example for each type of inheritance."
   ]
  },
  {
   "cell_type": "markdown",
   "id": "086c4c09-682e-4794-9fd9-4c523e3c9d8e",
   "metadata": {},
   "source": [
    "Inheritance allows us to define a class that inherits all the methods and properties from another class. Parent class is the class being inherited from, also called base class. Child class is the class that inherits from another class, also called derived class."
   ]
  },
  {
   "cell_type": "code",
   "execution_count": 10,
   "id": "cdd98f1c-4311-4c89-b7a9-11b70ea5b68f",
   "metadata": {},
   "outputs": [
    {
     "name": "stdout",
     "output_type": "stream",
     "text": [
      "This function is defined inside the parent class.\n",
      "This function is defined inside the child class.\n"
     ]
    }
   ],
   "source": [
    "# Single Inheritence\n",
    "class Parent1:  \n",
    "    def func_1(self):  \n",
    "        print (\"This function is defined inside the parent class.\")  \n",
    "   \n",
    "class Child1(Parent1):  \n",
    "    def func_2(self):  \n",
    "        print (\"This function is defined inside the child class.\")  \n",
    "   \n",
    "object = Child1()  \n",
    "object.func_1()  \n",
    "object.func_2()  "
   ]
  },
  {
   "cell_type": "code",
   "execution_count": 11,
   "id": "3208549a-c28e-4075-8844-3480a2e130b9",
   "metadata": {},
   "outputs": [
    {
     "name": "stdout",
     "output_type": "stream",
     "text": [
      "John Jr Jr\n",
      "Grandfather name is : John Jr Jr\n",
      "Father name is : John Jr\n",
      "Son name is : John\n"
     ]
    }
   ],
   "source": [
    "# multilevel inheritance  \n",
    "  \n",
    "class Grandfather1:  \n",
    "  \n",
    "    def __init__(self, grandfathername1):  \n",
    "        self.grandfathername1 = grandfathername1  \n",
    "  \n",
    "class Father1(Grandfather1):  \n",
    "    def __init__(self, fathername1, grandfathername1):  \n",
    "        self.fathername1 = fathername1  \n",
    "   \n",
    "        Grandfather1.__init__(self, grandfathername1)  \n",
    "  \n",
    "class Son1(Father1):  \n",
    "    def __init__(self,sonname1, fathername1, grandfathername1):  \n",
    "        self.sonname1 = sonname1  \n",
    "  \n",
    "        Father1.__init__(self, fathername1, grandfathername1)  \n",
    "  \n",
    "    def print_name(self):  \n",
    "        print('Grandfather name is :', self.grandfathername1)  \n",
    "        print(\"Father name is :\", self.fathername1)  \n",
    "        print(\"Son name is :\", self.sonname1)  \n",
    "  \n",
    "s1 = Son1('John', 'John Jr', 'John Jr Jr')  \n",
    "print (s1.grandfathername1)  \n",
    "s1.print_name()"
   ]
  },
  {
   "cell_type": "code",
   "execution_count": 12,
   "id": "42724967-2822-45c0-8dc7-3b4c947a9307",
   "metadata": {},
   "outputs": [
    {
     "name": "stdout",
     "output_type": "stream",
     "text": [
      "Father : RAM\n",
      "Mother : SITA\n"
     ]
    }
   ],
   "source": [
    "# Multiple inheritence\n",
    "\n",
    "class Mother:\n",
    "\tmothername = \"\"\n",
    "\n",
    "\tdef mother(self):\n",
    "\t\tprint(self.mothername)\n",
    "\n",
    "class Father:\n",
    "\tfathername = \"\"\n",
    "\n",
    "\tdef father(self):\n",
    "\t\tprint(self.fathername)\n",
    "\n",
    "class Son(Mother, Father):\n",
    "\tdef parents(self):\n",
    "\t\tprint(\"Father :\", self.fathername)\n",
    "\t\tprint(\"Mother :\", self.mothername)\n",
    "\n",
    "\n",
    "s1 = Son()\n",
    "s1.fathername = \"RAM\"\n",
    "s1.mothername = \"SITA\"\n",
    "s1.parents()\n"
   ]
  },
  {
   "cell_type": "code",
   "execution_count": null,
   "id": "e0806515-3f7e-457f-83ae-049906e9a8e5",
   "metadata": {},
   "outputs": [],
   "source": []
  }
 ],
 "metadata": {
  "kernelspec": {
   "display_name": "Python 3 (ipykernel)",
   "language": "python",
   "name": "python3"
  },
  "language_info": {
   "codemirror_mode": {
    "name": "ipython",
    "version": 3
   },
   "file_extension": ".py",
   "mimetype": "text/x-python",
   "name": "python",
   "nbconvert_exporter": "python",
   "pygments_lexer": "ipython3",
   "version": "3.10.8"
  }
 },
 "nbformat": 4,
 "nbformat_minor": 5
}
