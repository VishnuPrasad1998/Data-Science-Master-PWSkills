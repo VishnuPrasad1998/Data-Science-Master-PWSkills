{
 "cells": [
  {
   "cell_type": "markdown",
   "id": "6203f57c-0353-45a9-817a-571c0d403d7d",
   "metadata": {},
   "source": [
    "Q1) What is multithreading in python? hy is it used? Name the module used to handle threads in python"
   ]
  },
  {
   "cell_type": "markdown",
   "id": "d5419c3e-c3db-4e3a-913b-6e4b368a3f26",
   "metadata": {},
   "source": [
    "Ans) Multithreading refers to concurrently executing multiple threads by rapidly switching the control of the CPU between threads. It increases overall performance by utlizing the the capacity of CPU.\n",
    "\n",
    "\"threading\" is the module used for the same"
   ]
  },
  {
   "cell_type": "code",
   "execution_count": null,
   "id": "4fde941a-b75f-47fc-9d9d-2ae099969401",
   "metadata": {},
   "outputs": [],
   "source": []
  },
  {
   "cell_type": "markdown",
   "id": "171f5ba5-3cd0-41f5-9c37-42ac95a97a10",
   "metadata": {},
   "source": [
    "Q2) Why threading module used? Write the use of the following functions\n",
    "(activeCount\n",
    " currentThread\n",
    " enumerate)"
   ]
  },
  {
   "cell_type": "markdown",
   "id": "43360b4c-6aec-42a4-9ea5-89cf5b47a1d6",
   "metadata": {},
   "source": [
    "Ans) Threading module is used to implement multi threading in python. \n",
    "\n",
    "threading.active_count() from the threading module is used to count the currently active or running threads.\n",
    "\n",
    "threading.current_thread(): It is used to return the current Thread object, which corresponds to the caller's thread of control.\n",
    "\n",
    "enumerate() returns a list of all Thread objects currently alive"
   ]
  },
  {
   "cell_type": "code",
   "execution_count": null,
   "id": "dad26d14-5f33-42f4-bdcc-3103230bf1cc",
   "metadata": {},
   "outputs": [],
   "source": []
  },
  {
   "cell_type": "markdown",
   "id": "7ab27857-3263-49ef-9351-870bf0fa20da",
   "metadata": {},
   "source": [
    "3. Explain the following functions (run, start, join, isAlive)"
   ]
  },
  {
   "cell_type": "markdown",
   "id": "759314f2-71a6-433b-b9b1-fb7a802bd21c",
   "metadata": {},
   "source": [
    "Ans) \n",
    "\n",
    "run() − The run() method is the entry point for a thread.\n",
    "\n",
    "start() − The start() method starts a thread by calling the run method.\n",
    "\n",
    "join() − The join() waits for threads to terminate.\n",
    "\n",
    "isAlive() − The isAlive() method checks whether a thread is still executing."
   ]
  },
  {
   "cell_type": "code",
   "execution_count": null,
   "id": "d1c0befb-5990-4f4b-8535-5a4074d6b305",
   "metadata": {},
   "outputs": [],
   "source": []
  },
  {
   "cell_type": "markdown",
   "id": "d26007c8-a2e6-48b7-8190-8238a9d88880",
   "metadata": {},
   "source": [
    "4. Write a python program to create two threads. Thread one must print the list of squares and thread\n",
    "two must print the list of cubes."
   ]
  },
  {
   "cell_type": "code",
   "execution_count": 7,
   "id": "f9695310-21e1-4837-89df-20fd4312be26",
   "metadata": {},
   "outputs": [
    {
     "name": "stdout",
     "output_type": "stream",
     "text": [
      "---Squares---\n",
      "1\n",
      "4\n",
      "9\n",
      "16\n",
      "25\n",
      "---Cubes---\n",
      "1\n",
      "8\n",
      "27\n",
      "64\n",
      "125\n"
     ]
    }
   ],
   "source": [
    "import threading\n",
    "\n",
    "num_list = [1,2,3,4,5]\n",
    "def squaring(i):\n",
    "    print(i*i) \n",
    "def cubing(i):\n",
    "    print(i*i*i)\n",
    "thread1 = [threading.Thread(target=squaring, args=(i,)) for i in num_list]\n",
    "thread2 = [threading.Thread(target=cubing, args=(i,)) for i in num_list]\n",
    "\n",
    "print(\"---Squares---\")\n",
    "for t1 in thread1:\n",
    "    t1.start()\n",
    "print(\"---Cubes---\")\n",
    "for t2 in thread2:\n",
    "    t2.start()"
   ]
  },
  {
   "cell_type": "code",
   "execution_count": null,
   "id": "0dc4a2d4-51ec-418d-9b5b-deed8f82e25f",
   "metadata": {},
   "outputs": [],
   "source": []
  },
  {
   "cell_type": "markdown",
   "id": "85c55e21-594e-4d41-a166-ed5bada1ee78",
   "metadata": {},
   "source": [
    "Q5.State advantages and disadvantages of multithreading?"
   ]
  },
  {
   "cell_type": "markdown",
   "id": "ade403f6-047a-4554-8e08-3c9c67128600",
   "metadata": {},
   "source": [
    "Ans) \n",
    "Advatages:\n",
    "1. Improved performance and concurrency\n",
    "2. Max CPU utilization\n",
    "    \n",
    "Disadvantages:\n",
    "1. Complex debugging and testing processes\n",
    "2. Overhead switching of context\n",
    "3. Increased potential for deadlock occurrence"
   ]
  },
  {
   "cell_type": "code",
   "execution_count": null,
   "id": "87d41986-2ed7-49dd-b612-3e6c854e9171",
   "metadata": {},
   "outputs": [],
   "source": []
  },
  {
   "cell_type": "markdown",
   "id": "0f798df0-3e4b-4750-8a88-0bfbd7a10873",
   "metadata": {},
   "source": [
    "Q6. Explain deadlocks and race conditions."
   ]
  },
  {
   "cell_type": "markdown",
   "id": "1f5ce97e-8a3d-49af-9f8a-ce5e6dc2ecf0",
   "metadata": {},
   "source": [
    "Ans) Race conditions happen when two or more threads access the shared piece of data and resource. Deadlock describes a condition in which two or more threads are blocked (hung) forever because they are waiting for each other"
   ]
  },
  {
   "cell_type": "code",
   "execution_count": null,
   "id": "eea5e598-80f4-4b19-ace0-26afed5b7054",
   "metadata": {},
   "outputs": [],
   "source": []
  },
  {
   "cell_type": "code",
   "execution_count": null,
   "id": "c37c98f2-6023-4ae1-9491-f5a8e45a3cef",
   "metadata": {},
   "outputs": [],
   "source": []
  },
  {
   "cell_type": "code",
   "execution_count": null,
   "id": "6f24e000-b552-4909-b15e-697c5353a9a8",
   "metadata": {},
   "outputs": [],
   "source": []
  }
 ],
 "metadata": {
  "kernelspec": {
   "display_name": "Python 3 (ipykernel)",
   "language": "python",
   "name": "python3"
  },
  "language_info": {
   "codemirror_mode": {
    "name": "ipython",
    "version": 3
   },
   "file_extension": ".py",
   "mimetype": "text/x-python",
   "name": "python",
   "nbconvert_exporter": "python",
   "pygments_lexer": "ipython3",
   "version": "3.10.8"
  }
 },
 "nbformat": 4,
 "nbformat_minor": 5
}
