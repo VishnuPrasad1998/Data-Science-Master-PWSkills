{
 "cells": [
  {
   "cell_type": "markdown",
   "id": "cb9a8fe7-f758-4a7a-bc09-5d77c5f37469",
   "metadata": {},
   "source": [
    "Q1. Create a vehicle class with an init method having instance variables as name_of_vehicle, max_speed\n",
    "and average_of_vehicle."
   ]
  },
  {
   "cell_type": "code",
   "execution_count": 1,
   "id": "ee6b7455-f8f8-43a6-885e-322fdc7b12eb",
   "metadata": {},
   "outputs": [],
   "source": [
    "class Vehicle:\n",
    "    def __init__(self, name_of_vehicle, max_speed, average_of_vehicle):\n",
    "        self.name_of_vehicle = name_of_vehicle\n",
    "        self.max_speed = max_speed\n",
    "        self.average_of_vehicle = average_of_vehicle"
   ]
  },
  {
   "cell_type": "markdown",
   "id": "d21c01bc-64e5-4367-80cb-b852f419159b",
   "metadata": {},
   "source": [
    "Q2. Create a child class car from the vehicle class created in Que 1, which will inherit the vehicle class.\n",
    "Create a method named seating_capacity which takes capacity as an argument and returns the name of\n",
    "the vehicle and its seating capacity."
   ]
  },
  {
   "cell_type": "code",
   "execution_count": 4,
   "id": "2a507194-fd7d-4259-a9d6-a70632d4c30b",
   "metadata": {},
   "outputs": [
    {
     "data": {
      "text/plain": [
       "('Swift', 4)"
      ]
     },
     "execution_count": 4,
     "metadata": {},
     "output_type": "execute_result"
    }
   ],
   "source": [
    "class Vehicle:\n",
    "    def __init__(self, name_of_vehicle, max_speed, average_of_vehicle):\n",
    "        self.name_of_vehicle = name_of_vehicle\n",
    "        self.max_speed = max_speed\n",
    "        self.average_of_vehicle = average_of_vehicle\n",
    "\n",
    "class Car(Vehicle):\n",
    "    def seating_capacity(self, capacity):\n",
    "        return self.name_of_vehicle, capacity\n",
    "\n",
    "# v = Vehicle(\"Swift\", 120, 60)\n",
    "c = Car(\"Swift\", 120, 60)\n",
    "c.seating_capacity(4)\n"
   ]
  },
  {
   "cell_type": "markdown",
   "id": "6827a6bc-d117-4b65-8c59-a1de05cb9aec",
   "metadata": {},
   "source": [
    "Q3. What is multiple inheritance? Write a python code to demonstrate multiple inheritance."
   ]
  },
  {
   "cell_type": "markdown",
   "id": "d9738844-fd8c-4922-be80-6fa17e9f3a4a",
   "metadata": {},
   "source": [
    "Ans: Ability of child class to inherit from multiple parents."
   ]
  },
  {
   "cell_type": "code",
   "execution_count": 7,
   "id": "a6853eb6-294a-4a73-9d60-39ce799d8481",
   "metadata": {},
   "outputs": [
    {
     "name": "stdout",
     "output_type": "stream",
     "text": [
      "This is class B\n",
      "This is class A\n"
     ]
    }
   ],
   "source": [
    "class A:\n",
    "    def print_fna(self):\n",
    "        print(\"This is class A\")\n",
    "class B:\n",
    "    def print_fnb(self):\n",
    "        print(\"This is class B\")\n",
    "        \n",
    "class C(A,B):\n",
    "    def print_fnc(self):\n",
    "        print(\"This is class C\")\n",
    "        \n",
    "c = C()\n",
    "c.print_fnb()\n",
    "c.print_fna()"
   ]
  },
  {
   "cell_type": "markdown",
   "id": "c8a8e0fa-2c0a-4d7d-a9a8-ed6b8973d8f5",
   "metadata": {},
   "source": [
    "Q4. What are getter and setter in python? Create a class and create a getter and a setter method in this\n",
    "class."
   ]
  },
  {
   "cell_type": "markdown",
   "id": "56377ddc-793b-49d7-adcf-47f5b8573e2e",
   "metadata": {},
   "source": [
    "Ans: Getters and Setters are used in objected oriented programming for data encapsulation."
   ]
  },
  {
   "cell_type": "code",
   "execution_count": 9,
   "id": "d57f3418-c97f-4aa0-8bfc-5a626b97f7e0",
   "metadata": {},
   "outputs": [
    {
     "name": "stdout",
     "output_type": "stream",
     "text": [
      "21\n",
      "21\n"
     ]
    }
   ],
   "source": [
    "class Student:\n",
    "\tdef __init__(self, age):\n",
    "\t\tself._age = age\n",
    "\t\n",
    "\t# getter method\n",
    "\tdef get_age(self):\n",
    "\t\treturn self._age\n",
    "\t\n",
    "\t# setter method\n",
    "\tdef set_age(self, x):\n",
    "\t\tself._age = x\n",
    "\n",
    "vishnu = Student(18)\n",
    "\n",
    "# setting the age using setter\n",
    "vishnu.set_age(21)\n",
    "\n",
    "# retrieving age using getter\n",
    "print(vishnu.get_age())\n",
    "\n",
    "print(vishnu._age)\n"
   ]
  },
  {
   "cell_type": "markdown",
   "id": "f358490d-96c0-449a-b2fb-db28d582534d",
   "metadata": {},
   "source": [
    "Q5.What is method overriding in python? Write a python code to demonstrate method overriding."
   ]
  },
  {
   "cell_type": "markdown",
   "id": "0cd559e9-1877-4fa0-9211-8d8d4ef11110",
   "metadata": {},
   "source": [
    "Ans: Method overriding is an ability of any object-oriented programming language that allows a child class to provide a specific implementation of a method that is already provided by one of its parent classes"
   ]
  },
  {
   "cell_type": "code",
   "execution_count": 12,
   "id": "b3d9b244-e065-47a9-b02c-fe4045c4e574",
   "metadata": {},
   "outputs": [
    {
     "name": "stdout",
     "output_type": "stream",
     "text": [
      "GEC\n",
      "Vishnu\n"
     ]
    }
   ],
   "source": [
    "class College:\n",
    "    \n",
    "    def __init__(self):\n",
    "        self.name = \"GEC\"\n",
    "          \n",
    "    def show(self):\n",
    "        print(self.name)\n",
    "          \n",
    "class Students(College):\n",
    "      \n",
    "    def __init__(self):\n",
    "        self.name = \"Vishnu\"\n",
    "          \n",
    "    def show(self):\n",
    "        print(self.name)\n",
    "          \n",
    "obj1 = College()\n",
    "obj2 = Students()\n",
    "  \n",
    "obj1.show()\n",
    "obj2.show()"
   ]
  },
  {
   "cell_type": "code",
   "execution_count": null,
   "id": "873a24ca-907a-4da0-9c57-5da7697cfad8",
   "metadata": {},
   "outputs": [],
   "source": []
  },
  {
   "cell_type": "code",
   "execution_count": null,
   "id": "bee606b4-3d09-4d02-9e4c-152fab8b647d",
   "metadata": {},
   "outputs": [],
   "source": []
  },
  {
   "cell_type": "code",
   "execution_count": null,
   "id": "820d5540-82ca-4e15-b81e-530e3c2c9fcd",
   "metadata": {},
   "outputs": [],
   "source": []
  }
 ],
 "metadata": {
  "kernelspec": {
   "display_name": "Python 3 (ipykernel)",
   "language": "python",
   "name": "python3"
  },
  "language_info": {
   "codemirror_mode": {
    "name": "ipython",
    "version": 3
   },
   "file_extension": ".py",
   "mimetype": "text/x-python",
   "name": "python",
   "nbconvert_exporter": "python",
   "pygments_lexer": "ipython3",
   "version": "3.10.8"
  }
 },
 "nbformat": 4,
 "nbformat_minor": 5
}
