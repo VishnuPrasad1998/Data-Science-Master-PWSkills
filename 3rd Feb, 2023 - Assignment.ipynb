{
 "cells": [
  {
   "cell_type": "markdown",
   "id": "4b694129-4f6f-461b-8247-b2bdd6b98a69",
   "metadata": {},
   "source": [
    "Q1. Which keyword is used to create a function? Create a function to return a list of odd numbers in the\n",
    "range of 1 to 25."
   ]
  },
  {
   "cell_type": "markdown",
   "id": "7000ba29-1e4f-4c99-a9ca-6710e6d6a054",
   "metadata": {},
   "source": [
    "Answer: def is the keyword for creating/defining a function."
   ]
  },
  {
   "cell_type": "code",
   "execution_count": 5,
   "id": "f2e6c3a0-b34e-4b68-9d39-e24c3c219b55",
   "metadata": {},
   "outputs": [
    {
     "data": {
      "text/plain": [
       "[1, 3, 5, 7, 9, 11, 13, 15, 17, 19, 21, 23]"
      ]
     },
     "execution_count": 5,
     "metadata": {},
     "output_type": "execute_result"
    }
   ],
   "source": [
    "def odd_numbers():\n",
    "    L = []\n",
    "    for i in range(1,25):\n",
    "        if i % 2 != 0:\n",
    "            L.append(i)\n",
    "    return L\n",
    "\n",
    "odd_numbers()"
   ]
  },
  {
   "cell_type": "markdown",
   "id": "0d49053b-41c5-4ea9-a3e0-adae951fe712",
   "metadata": {},
   "source": [
    "Q2. Why *args and **kwargs is used in some functions? Create a function each for *args and **kwargs to\n",
    "demonstrate their use."
   ]
  },
  {
   "cell_type": "markdown",
   "id": "115bdc3d-42e2-4ab0-b966-475608c7eb87",
   "metadata": {},
   "source": [
    "Answer: \n",
    "args: which allow us to pass the variable number of non keyword arguments to function.\n",
    "kwargs: allows us to pass the variable length of keyword arguments to the function.\n",
    "eg."
   ]
  },
  {
   "cell_type": "code",
   "execution_count": 7,
   "id": "e93036d3-4cb2-4e7d-8dbc-53219948f8e0",
   "metadata": {},
   "outputs": [
    {
     "name": "stdout",
     "output_type": "stream",
     "text": [
      "Hello\n",
      "Welcome\n",
      "to\n",
      "DSM\n"
     ]
    }
   ],
   "source": [
    "def func(*args):\n",
    "    for arg in args:\n",
    "        print(arg)\n",
    " \n",
    "func('Hello', 'Welcome', 'to', 'DSM')"
   ]
  },
  {
   "cell_type": "code",
   "execution_count": 8,
   "id": "6a750984-c613-46de-a946-3fea7d1fae98",
   "metadata": {},
   "outputs": [
    {
     "name": "stdout",
     "output_type": "stream",
     "text": [
      "first == Hello\n",
      "mid == Welcome\n",
      "last == to DSM\n"
     ]
    }
   ],
   "source": [
    "def func(**kwargs):\n",
    "    for key, value in kwargs.items():\n",
    "        print(\"%s == %s\" % (key, value))\n",
    " \n",
    "func(first='Hello', mid='Welcome', last='to DSM')"
   ]
  },
  {
   "cell_type": "markdown",
   "id": "c5fd198d-4829-4f3e-b430-180df7aefe72",
   "metadata": {},
   "source": [
    "Q3. What is an iterator in python? Name the method used to initialise the iterator object and the method\n",
    "used for iteration. Use these methods to print the first five elements of the given list [2, 4, 6, 8, 10, 12, 14, 16,\n",
    "18, 20]."
   ]
  },
  {
   "cell_type": "markdown",
   "id": "264b5aa6-155a-4f99-89d9-27a4b71dbd24",
   "metadata": {},
   "source": [
    "Answer: Iterator in Python is an object that is used to iterate over iterable objects like lists, tuples, dicts, and sets. \n",
    "__iter__(): The iter() method is called for the initialization of an iterator. \n",
    "__next__(): The next method returns the next value for the iterable. "
   ]
  },
  {
   "cell_type": "code",
   "execution_count": 10,
   "id": "d02dc53f-c055-4bf4-be92-1aa7f3c2fa5a",
   "metadata": {},
   "outputs": [
    {
     "name": "stdout",
     "output_type": "stream",
     "text": [
      "2\n",
      "4\n",
      "6\n",
      "8\n",
      "10\n"
     ]
    }
   ],
   "source": [
    "List = [2, 4, 6, 8, 10, 12, 14, 16, 18, 20]\n",
    "list_iterator = iter(List)\n",
    "print(next(list_iterator))\n",
    "print(next(list_iterator))\n",
    "print(next(list_iterator))\n",
    "print(next(list_iterator))\n",
    "print(next(list_iterator))"
   ]
  },
  {
   "cell_type": "markdown",
   "id": "d7e54a69-f202-4c3d-aecc-8909f6dff9d8",
   "metadata": {},
   "source": [
    "Q4. What is a generator function in python? Why yield keyword is used? Give an example of a generator\n",
    "function."
   ]
  },
  {
   "cell_type": "markdown",
   "id": "61b0bf22-e2b5-4035-a866-11aa4b371883",
   "metadata": {},
   "source": [
    "Answer: A generator is a function that returns an iterator that produces a sequence of values when iterated over.\n",
    "yield keyword is used to produce a value from the generator."
   ]
  },
  {
   "cell_type": "code",
   "execution_count": 11,
   "id": "689e1227-c16b-4f25-993d-4d0f124d7fe2",
   "metadata": {},
   "outputs": [
    {
     "name": "stdout",
     "output_type": "stream",
     "text": [
      "0\n",
      "1\n",
      "1\n",
      "2\n",
      "3\n"
     ]
    }
   ],
   "source": [
    "def fib(limit):\n",
    "    a, b = 0, 1\n",
    "    \n",
    "    while a < limit:\n",
    "        yield a\n",
    "        a, b = b, a + b\n",
    " \n",
    "x = fib(5)\n",
    "\n",
    "print(next(x)) \n",
    "print(next(x))\n",
    "print(next(x))\n",
    "print(next(x))\n",
    "print(next(x))"
   ]
  },
  {
   "cell_type": "markdown",
   "id": "8e29b876-7ef5-4fda-8161-1c90e91adb7b",
   "metadata": {},
   "source": [
    "Create a generator function for prime numbers less than 1000. Use the next() method to print the\n",
    "first 20 prime numbers."
   ]
  },
  {
   "cell_type": "code",
   "execution_count": 15,
   "id": "425ea0dd-78a7-4dc8-a8bf-b7249d6e2e57",
   "metadata": {},
   "outputs": [
    {
     "name": "stdout",
     "output_type": "stream",
     "text": [
      "2\n",
      "3\n",
      "5\n",
      "7\n",
      "11\n",
      "13\n",
      "17\n",
      "19\n",
      "23\n",
      "29\n",
      "31\n",
      "37\n",
      "41\n",
      "43\n",
      "47\n",
      "53\n",
      "59\n",
      "61\n",
      "67\n",
      "71\n"
     ]
    }
   ],
   "source": [
    "def isPrime(n):\n",
    "     \n",
    "    # Corner case\n",
    "    if n <= 1 :\n",
    "        return False\n",
    " \n",
    "    # check from 2 to n-1\n",
    "    for i in range(2, n):\n",
    "        if n % i == 0:\n",
    "            return False\n",
    " \n",
    "    return True\n",
    " \n",
    "# Function to print primes\n",
    "def printPrime(n):\n",
    "    for i in range(2, n + 1):\n",
    "        if isPrime(i):\n",
    "            yield i\n",
    " \n",
    "if __name__ == \"__main__\" :\n",
    "    n = 1000\n",
    "    x = printPrime(n)\n",
    "    for i in range(20):\n",
    "        print(next(x))\n",
    "    "
   ]
  },
  {
   "cell_type": "code",
   "execution_count": null,
   "id": "1d8ec3e8-67f0-48ec-8ce9-1077e7be62fc",
   "metadata": {},
   "outputs": [],
   "source": []
  }
 ],
 "metadata": {
  "kernelspec": {
   "display_name": "Python 3 (ipykernel)",
   "language": "python",
   "name": "python3"
  },
  "language_info": {
   "codemirror_mode": {
    "name": "ipython",
    "version": 3
   },
   "file_extension": ".py",
   "mimetype": "text/x-python",
   "name": "python",
   "nbconvert_exporter": "python",
   "pygments_lexer": "ipython3",
   "version": "3.10.8"
  }
 },
 "nbformat": 4,
 "nbformat_minor": 5
}
