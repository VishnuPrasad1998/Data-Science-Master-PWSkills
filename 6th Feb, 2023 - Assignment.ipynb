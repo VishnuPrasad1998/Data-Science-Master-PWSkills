{
 "cells": [
  {
   "cell_type": "markdown",
   "id": "6ca824fc-166b-46e1-bc69-ace3724eb9a5",
   "metadata": {},
   "source": [
    "Q1. Create a function which will take a list as an argument and return the product of all the numbers\n",
    "after creating a flat list.\n",
    "Use the below-given list as an argument for your function.\n",
    "list1 = [1,2,3,4, [44,55,66, True], False, (34,56,78,89,34), {1,2,3,3,2,1}, {1:34, \"key2\": [55, 67, 78, 89], 4: (45,\n",
    "22, 61, 34)}, [56, 'data science'], 'Machine Learning']\n",
    "Note: you must extract numeric keys and values of the dictionary also."
   ]
  },
  {
   "cell_type": "code",
   "execution_count": 36,
   "id": "bf8587ec-2737-4b70-ae84-32a6347a72eb",
   "metadata": {},
   "outputs": [
    {
     "name": "stdout",
     "output_type": "stream",
     "text": [
      "4134711838987085478833841242112000\n"
     ]
    }
   ],
   "source": [
    "from functools import reduce\n",
    "\n",
    "def multfunc(list1):\n",
    "    list2 = [] \n",
    "    for i in list1:\n",
    "        if type(i) == int:\n",
    "            list2.append(i)\n",
    "        elif type(i) == list:\n",
    "            for j in i:\n",
    "                if type(j) == int:\n",
    "                    list2.append(j)\n",
    "        elif type(i) == tuple:\n",
    "            for j in i:\n",
    "                if type(j) == int:\n",
    "                    list2.append(j)\n",
    "        elif type(i) == set:\n",
    "            for j in i:\n",
    "                if type(j) == int:\n",
    "                    list2.append(j)\n",
    "        elif type(i) == dict:\n",
    "            for k, v in i.items():\n",
    "                if type(k) == int:\n",
    "                    list2.append(k)\n",
    "                if type(v) == int:\n",
    "                    list2.append(v)\n",
    "                elif type(v) == list:\n",
    "                    for j in v:\n",
    "                        if type(j) == int:\n",
    "                            list2.append(j)\n",
    "                elif type(v) == tuple:\n",
    "                    for j in v:\n",
    "                        if type(j) == int:\n",
    "                            list2.append(j)\n",
    "    return reduce(lambda x, y: x * y, list2)\n",
    "\n",
    "list1 = [1,2,3,4, [44,55,66, True], False, (34,56,78,89,34), {1,2,3,3,2,1}, {1:34, \"key2\": [55, 67, 78, 89], 4: (45,\n",
    "22, 61, 34)}, [56, 'data science'], 'Machine Learning']\n",
    "\n",
    "print(multfunc(list1))\n"
   ]
  },
  {
   "cell_type": "code",
   "execution_count": null,
   "id": "8d3ecd9b-aba2-46c0-9d70-7089808caa6b",
   "metadata": {},
   "outputs": [],
   "source": []
  },
  {
   "cell_type": "markdown",
   "id": "591900b3-2574-438b-a263-65d1fd312743",
   "metadata": {},
   "source": [
    "Q2. Write a python program for encrypting a message sent to you by your friend. The logic of encryption\n",
    "should be such that, for a the output should be z. For b, the output should be y. For c, the output should\n",
    "be x respectively. Also, the whitespace should be replaced with a dollar sign. Keep the punctuation\n",
    "marks unchanged.\n",
    "Input Sentence: I want to become a Data Scientist.\n",
    "Encrypt the above input sentence using the program you just created.\n",
    "Note: Convert the given input sentence into lowercase before encrypting. The final output should be\n",
    "lowercase."
   ]
  },
  {
   "cell_type": "code",
   "execution_count": 37,
   "id": "7c690dd7-9e7a-473d-8cc1-d11defa064ed",
   "metadata": {},
   "outputs": [
    {
     "name": "stdout",
     "output_type": "stream",
     "text": [
      "i$wznt$to$yexome$z$dztz$sxientist.\n"
     ]
    }
   ],
   "source": [
    "Sentence =  \"I want to become a Data Scientist.\"\n",
    "op_str = \"\"\n",
    "l1 = list(Sentence)\n",
    "new_list = []\n",
    "for s in l1:\n",
    "    ch = s.lower()\n",
    "    if ch == 'a':\n",
    "        ch = 'z'\n",
    "        new_list.append(ch)\n",
    "    elif ch == 'b':\n",
    "        ch = 'y'\n",
    "        new_list.append(ch)\n",
    "    elif ch == 'c':\n",
    "        ch = 'x'\n",
    "        new_list.append(ch)\n",
    "    elif ch == ' ':\n",
    "        new_list.append(\"$\")\n",
    "    else:\n",
    "        new_list.append(ch)\n",
    "        \n",
    "print(\"\".join(new_list))"
   ]
  },
  {
   "cell_type": "code",
   "execution_count": null,
   "id": "415bc384-3df5-43e4-8ff2-132bafd4c22a",
   "metadata": {},
   "outputs": [],
   "source": []
  },
  {
   "cell_type": "code",
   "execution_count": null,
   "id": "b2d56390-fb79-4550-82d9-2ab4d08ee351",
   "metadata": {},
   "outputs": [],
   "source": []
  }
 ],
 "metadata": {
  "kernelspec": {
   "display_name": "Python 3 (ipykernel)",
   "language": "python",
   "name": "python3"
  },
  "language_info": {
   "codemirror_mode": {
    "name": "ipython",
    "version": 3
   },
   "file_extension": ".py",
   "mimetype": "text/x-python",
   "name": "python",
   "nbconvert_exporter": "python",
   "pygments_lexer": "ipython3",
   "version": "3.10.8"
  }
 },
 "nbformat": 4,
 "nbformat_minor": 5
}
