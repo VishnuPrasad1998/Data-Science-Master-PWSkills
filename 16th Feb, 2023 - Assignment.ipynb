{
 "cells": [
  {
   "cell_type": "markdown",
   "id": "e1f53c70-f194-4687-9330-78fde78efd42",
   "metadata": {},
   "source": [
    "Q1. What is a database? Differentiate between SQL and NoSQL databases."
   ]
  },
  {
   "cell_type": "markdown",
   "id": "d980554c-dcb0-44e6-bcb2-ca74c5c45eab",
   "metadata": {},
   "source": [
    "Ans) A database is an organized collection of data that is stored and accessed electronically. \n",
    "\n",
    "SQL databases are highly structured and enforce strict data integrity, while NoSQL databases are highly flexible and designed for scalability and handling unstructured data efficiently."
   ]
  },
  {
   "cell_type": "code",
   "execution_count": null,
   "id": "6321d366-28c9-4c86-8e32-608730f81ff3",
   "metadata": {},
   "outputs": [],
   "source": []
  },
  {
   "cell_type": "markdown",
   "id": "bf9326e0-12ad-44f9-8552-afdb8feda697",
   "metadata": {},
   "source": [
    "Q2. What is DDL? Explain why CREATE, DROP, ALTER, and TRUNCATE are used with an example."
   ]
  },
  {
   "cell_type": "markdown",
   "id": "133f1c19-0b19-4139-bd4f-bcb27e6de97d",
   "metadata": {},
   "source": [
    "Ans) \n",
    "DDL stands for Data Definition Language, which is a subset of SQL that is used to define and modify the structure of a database\n",
    "The CREATE statement is used to create new database objects/tables.\n",
    "\n",
    "eg.\n",
    "CREATE TABLE students (\n",
    "    id INT PRIMARY KEY,\n",
    "    name VARCHAR(50),\n",
    "    age INT,\n",
    "    email VARCHAR(100)\n",
    ");\n",
    "\n",
    "The DROP statement is used to delete existing database objects. For example, the following SQL code drops the \"students\" table.\n",
    "\n",
    "eg. \n",
    "DROP TABLE students;\n",
    "\n",
    "The ALTER statement is used to modify the structure of existing database objects. For example, the following SQL code adds a new column called \"phone\" to the \"students\" table.\n",
    "\n",
    "eg.\n",
    "ALTER TABLE students ADD COLUMN phone VARCHAR(20);\n",
    "\n",
    "The TRUNCATE statement is used to delete all data from a table without dropping the table itself. This is useful when you want to remove all data from a table quickly, without deleting the table structure. For example, the following SQL code truncates the \"students\" table.\n",
    "\n",
    "eg. \n",
    "TRUNCATE TABLE students;"
   ]
  },
  {
   "cell_type": "code",
   "execution_count": null,
   "id": "9e7b7180-1812-4723-a22f-8db7059a5756",
   "metadata": {},
   "outputs": [],
   "source": []
  },
  {
   "cell_type": "markdown",
   "id": "168ae204-9b0e-4531-b846-2f7b2fb0891d",
   "metadata": {},
   "source": [
    "Q3. What is DML? Explain INSERT, UPDATE, and DELETE with an example."
   ]
  },
  {
   "cell_type": "markdown",
   "id": "c32fd7c6-9b93-472c-82b7-ab47adf3676a",
   "metadata": {},
   "source": [
    "Ans) \n",
    "DML stands for Data Manipulation Language, which is a subset of SQL (Structured Query Language) used to manipulate data within a relational database. DML commands are used to insert, update, delete, and retrieve data from tables.\n",
    "\n",
    "INSERT: The INSERT statement is used to insert data into a table.\n",
    "\n",
    "eg. \n",
    "INSERT INTO customers (first_name, last_name, email)\n",
    "VALUES ('John', 'Doe', 'johndoe@email.com');\n",
    "\n",
    "UPDATE: The UPDATE statement is used to modify existing data in a table. \n",
    "\n",
    "eg.\n",
    "UPDATE customers\n",
    "SET email = 'newemail@email.com'\n",
    "WHERE customer_id = 1;\n",
    "\n",
    "DELETE: The DELETE statement is used to remove data from a table. \n",
    "\n",
    "eg.\n",
    "DELETE FROM customers\n",
    "WHERE customer_id = 1;"
   ]
  },
  {
   "cell_type": "code",
   "execution_count": null,
   "id": "0ab2d090-fb79-446f-ab6c-b9fbffffd9bb",
   "metadata": {},
   "outputs": [],
   "source": []
  },
  {
   "cell_type": "markdown",
   "id": "4a67facb-7f87-4657-b957-bc5c602daf67",
   "metadata": {},
   "source": [
    "Q4. What is DQL? Explain SELECT with an example."
   ]
  },
  {
   "cell_type": "markdown",
   "id": "5b11ea01-dd7b-4676-94d4-0c8e3a8a52ef",
   "metadata": {},
   "source": [
    "Ans) DQL stands for Data Query Language, which is a subset of SQL (Structured Query Language) used to retrieve data from a relational database.\n",
    "The SELECT statement is used to query data from one or more tables.\n",
    "eg.\n",
    "SELECT * FROM customers;\n",
    "\n",
    "This will retrieve all the rows and columns from the \"customers\" table. "
   ]
  },
  {
   "cell_type": "code",
   "execution_count": null,
   "id": "36df033b-c7e4-479d-8fb0-ed222ec34c30",
   "metadata": {},
   "outputs": [],
   "source": []
  },
  {
   "cell_type": "markdown",
   "id": "8b8b0148-dc88-4c32-8005-55a0a55b7646",
   "metadata": {},
   "source": [
    "Q5. Explain Primary Key and Foreign Key."
   ]
  },
  {
   "cell_type": "markdown",
   "id": "79bded42-0e63-46e6-9a07-f647fd51214d",
   "metadata": {},
   "source": [
    "Ans) \n",
    "A primary key is a unique identifier for a record in a database table. It is a column or a set of columns that uniquely identifies each record in a table\n",
    "For example, in a \"customers\" table, the \"customer_id\" column can be set as the primary key. \n",
    "\n",
    "A foreign key is a column or a set of columns in a table that refers to the primary key of another table. It is used to establish a relationship between two tables. The table that contains the foreign key is called the referencing table, and the table that contains the primary key is called the referenced table.\n",
    "For example, in a \"orders\" table, the \"customer_id\" column can be set as a foreign key that refers to the primary key of the \"customers\" table. This establishes a relationship between the two tables, and it allows the \"orders\" table to access the customer data by using the \"customer_id\" column."
   ]
  },
  {
   "cell_type": "code",
   "execution_count": null,
   "id": "1bbc5300-37d1-466b-99e0-99c5bb437825",
   "metadata": {},
   "outputs": [],
   "source": []
  },
  {
   "cell_type": "markdown",
   "id": "bbcba479-81a1-4e8d-a9a9-e31e92c764b5",
   "metadata": {},
   "source": [
    "Q6. Write a python code to connect MySQL to python. Explain the cursor() and execute() method."
   ]
  },
  {
   "cell_type": "raw",
   "id": "e98e66c6-545b-41bb-a807-8874179b3b03",
   "metadata": {},
   "source": [
    "import mysql.connector\n",
    "\n",
    "mydb = mysql.connector.connect(\n",
    "  host=\"localhost\",\n",
    "  user=\"yourusername\",\n",
    "  password=\"yourpassword\",\n",
    "  database=\"yourdatabasename\"\n",
    ")\n",
    "\n",
    "mycursor = mydb.cursor()\n",
    "\n",
    "mycursor.execute(\"SELECT * FROM customers\")\n",
    "\n",
    "myresult = mycursor.fetchall()\n",
    "\n",
    "for row in myresult:\n",
    "  print(row)\n",
    "\n",
    "The \"cursor()\" method creates a cursor object that is used to execute SQL queries and fetch results.\n",
    "\n",
    "The \"execute()\" method of the cursor object is used to execute an SQL query."
   ]
  },
  {
   "cell_type": "code",
   "execution_count": null,
   "id": "5c9baec4-0689-4c00-b26f-8b8d7e3a1d1a",
   "metadata": {},
   "outputs": [],
   "source": []
  },
  {
   "cell_type": "markdown",
   "id": "6a36835e-3e4c-4030-9b91-82262af50a94",
   "metadata": {},
   "source": [
    "Q7. Give the order of execution of SQL clauses in an SQL query."
   ]
  },
  {
   "cell_type": "markdown",
   "id": "ce02cb20-bc4f-40b7-8d47-4540548baff9",
   "metadata": {},
   "source": [
    "Ans)\n",
    "\n",
    "The order of execution of SQL clauses in an SQL query is as follows:\n",
    "\n",
    "FROM clause: The FROM clause specifies the table or tables from which the data is to be retrieved. This is the first clause in a SELECT statement.\n",
    "\n",
    "WHERE clause: The WHERE clause filters the data based on a specified condition. This clause comes after the FROM clause.\n",
    "\n",
    "GROUP BY clause: The GROUP BY clause is used to group the data based on one or more columns. This clause comes after the WHERE clause.\n",
    "\n",
    "HAVING clause: The HAVING clause filters the grouped data based on a specified condition. This clause comes after the GROUP BY clause.\n",
    "\n",
    "SELECT clause: The SELECT clause specifies the columns to be retrieved from the table. This clause comes after the WHERE and GROUP BY clauses.\n",
    "\n",
    "ORDER BY clause: The ORDER BY clause is used to sort the data based on one or more columns. This clause comes after the SELECT clause.\n",
    "\n",
    "LIMIT/OFFSET clause: The LIMIT/OFFSET clause is used to limit the number of rows returned by the query. This clause comes after the ORDER BY clause."
   ]
  },
  {
   "cell_type": "code",
   "execution_count": null,
   "id": "49c4a86e-b8ff-4a4c-a1a0-45d7f51ae96d",
   "metadata": {},
   "outputs": [],
   "source": []
  },
  {
   "cell_type": "code",
   "execution_count": null,
   "id": "109088a6-0eb7-464e-b8eb-f5ea4466714b",
   "metadata": {},
   "outputs": [],
   "source": []
  }
 ],
 "metadata": {
  "kernelspec": {
   "display_name": "Python 3 (ipykernel)",
   "language": "python",
   "name": "python3"
  },
  "language_info": {
   "codemirror_mode": {
    "name": "ipython",
    "version": 3
   },
   "file_extension": ".py",
   "mimetype": "text/x-python",
   "name": "python",
   "nbconvert_exporter": "python",
   "pygments_lexer": "ipython3",
   "version": "3.10.8"
  }
 },
 "nbformat": 4,
 "nbformat_minor": 5
}
