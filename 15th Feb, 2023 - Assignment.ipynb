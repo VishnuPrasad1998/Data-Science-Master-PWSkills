{
 "cells": [
  {
   "cell_type": "markdown",
   "id": "d2f93d64-869e-4787-86a6-3a4f4595ba47",
   "metadata": {},
   "source": [
    "Q1. What is multiprocessing in python? Why is it useful?"
   ]
  },
  {
   "cell_type": "markdown",
   "id": "7d32eaab-b782-4669-8e67-f3012f881837",
   "metadata": {},
   "source": [
    "Ans)\n",
    "Multiprocessing is a Python module that enables the creation of multiple processes to run parallelly on a multi-core CPU or multi-processor machine. It allows you to leverage the full power of the CPU, which can improve the performance of certain types of programs significantly.\n",
    "Multiprocessing is useful in several scenarios like parallel processing of large datasets, distributed computing, simulation, scientific computing, and machine learning.\n"
   ]
  },
  {
   "cell_type": "markdown",
   "id": "c3ddc9ea-34db-42c0-adc1-2be2b83c0295",
   "metadata": {},
   "source": [
    "Q2. What are the differences between multiprocessing and multithreading?"
   ]
  },
  {
   "cell_type": "markdown",
   "id": "27d9d048-93c6-4f32-a19f-ea21e711ceb7",
   "metadata": {},
   "source": [
    "Ans) \n",
    "CPU utilization: Multiprocessing is more efficient in terms of CPU utilization than multithreading since it can utilize multiple CPUs or CPU cores, whereas multithreading can only utilize a single CPU or core.\n",
    "\n",
    "Memory: Each process created in multiprocessing has its memory space, which is isolated from other processes, while all threads of a process share the same memory space. Therefore, multiprocessing is more memory-intensive than multithreading\n",
    "\n",
    "In summary, multiprocessing is better suited for CPU-bound tasks that require heavy processing, while multithreading is better suited for I/O-bound tasks that require a lot of waiting for external events, like network or disk I/O. "
   ]
  },
  {
   "cell_type": "markdown",
   "id": "c0838d4a-1f7c-45e9-9f03-a725786e7f44",
   "metadata": {},
   "source": [
    "Q3. Write a python code to create a process using the multiprocessing module."
   ]
  },
  {
   "cell_type": "code",
   "execution_count": 10,
   "id": "ff7bf7b3-aad6-458e-abad-f62a2fff9a82",
   "metadata": {},
   "outputs": [
    {
     "name": "stdout",
     "output_type": "stream",
     "text": [
      "Hello World...\n",
      "Main process complete.\n"
     ]
    }
   ],
   "source": [
    "import multiprocessing\n",
    "\n",
    "def hello_world():\n",
    "    print(\"Hello World...\")\n",
    "\n",
    "if __name__ == \"__main__\":\n",
    "    process = multiprocessing.Process(target=hello_world)\n",
    "    process.start()\n",
    "    process.join()\n",
    "\n",
    "    print(\"Main process complete.\")"
   ]
  },
  {
   "cell_type": "markdown",
   "id": "408b073e-bb14-4191-8b26-2ffc447f43ce",
   "metadata": {},
   "source": [
    "Q4. What is a multiprocessing pool in python? Why is it used?"
   ]
  },
  {
   "cell_type": "markdown",
   "id": "6ba9ad14-2962-4352-aaa9-566d39584a65",
   "metadata": {},
   "source": [
    "Ans) A multiprocessing pool in Python is a set of worker processes that can be used to parallelize the execution of a function across multiple input values. It is implemented using the multiprocessing.Pool class, which provides an easy-to-use interface for managing worker processes.\n",
    "\n",
    "The multiprocessing.Pool class creates a pool of worker processes, each of which can execute tasks in parallel.\n",
    "\n",
    "By using a pool of worker processes, the workload can be divided among them, making more efficient use of the available resources, especially on multi-core CPUs."
   ]
  },
  {
   "cell_type": "markdown",
   "id": "4e00c7ae-611b-4825-8b67-14808c1c4f2d",
   "metadata": {},
   "source": [
    "Q5. How can we create a pool of worker processes in python using the multiprocessing module?"
   ]
  },
  {
   "cell_type": "code",
   "execution_count": 11,
   "id": "4da618f6-2e0b-4719-9504-8436264293b7",
   "metadata": {},
   "outputs": [
    {
     "name": "stdout",
     "output_type": "stream",
     "text": [
      "[1, 4, 9, 16, 25, 36, 49, 64, 81, 100]\n"
     ]
    }
   ],
   "source": [
    "import multiprocessing\n",
    "\n",
    "def square(x):\n",
    "    return x**2\n",
    "\n",
    "if __name__ == \"__main__\":\n",
    "    # Create a pool of 4 worker processes\n",
    "    pool = multiprocessing.Pool(processes=4)\n",
    "\n",
    "    input_values = [1, 2, 3, 4, 5, 6, 7, 8, 9, 10]\n",
    "    results = pool.map(square, input_values)\n",
    "\n",
    "    print(results)\n",
    "\n",
    "    pool.close()\n",
    "    pool.join()\n",
    "\n"
   ]
  },
  {
   "cell_type": "markdown",
   "id": "58a2adbc-3ee0-4692-9367-7ebe11c674eb",
   "metadata": {},
   "source": [
    "Q6. Write a python program to create 4 processes, each process should print a different number using the\n",
    "multiprocessing module in python."
   ]
  },
  {
   "cell_type": "code",
   "execution_count": 12,
   "id": "580a2c4c-281e-4a23-b8fc-dc59d9b24020",
   "metadata": {},
   "outputs": [
    {
     "name": "stdout",
     "output_type": "stream",
     "text": [
      "Number: 0\n",
      "Number: 1\n",
      "Number: 2\n",
      "Number: 3\n"
     ]
    }
   ],
   "source": [
    "import multiprocessing\n",
    "\n",
    "def print_number(number):\n",
    "    print(f\"Number: {number}\")\n",
    "\n",
    "if __name__ == \"__main__\":\n",
    "    process_list = []\n",
    "    for i in range(4):\n",
    "        p = multiprocessing.Process(target=print_number, args=(i,))\n",
    "        process_list.append(p)\n",
    "        p.start()\n",
    "\n",
    "    for p in process_list:\n",
    "        p.join()"
   ]
  },
  {
   "cell_type": "code",
   "execution_count": null,
   "id": "9c6cd34b-726a-47e7-82cb-134d924f1df3",
   "metadata": {},
   "outputs": [],
   "source": []
  },
  {
   "cell_type": "code",
   "execution_count": null,
   "id": "6d405aa2-36bb-48b0-a23f-2057e856b2a6",
   "metadata": {},
   "outputs": [],
   "source": []
  },
  {
   "cell_type": "code",
   "execution_count": null,
   "id": "748911a4-adff-4edd-8587-50860427a794",
   "metadata": {},
   "outputs": [],
   "source": []
  }
 ],
 "metadata": {
  "kernelspec": {
   "display_name": "Python 3 (ipykernel)",
   "language": "python",
   "name": "python3"
  },
  "language_info": {
   "codemirror_mode": {
    "name": "ipython",
    "version": 3
   },
   "file_extension": ".py",
   "mimetype": "text/x-python",
   "name": "python",
   "nbconvert_exporter": "python",
   "pygments_lexer": "ipython3",
   "version": "3.10.8"
  }
 },
 "nbformat": 4,
 "nbformat_minor": 5
}
